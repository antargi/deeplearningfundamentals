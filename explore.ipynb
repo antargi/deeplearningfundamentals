{
 "cells": [
  {
   "cell_type": "code",
   "execution_count": 1,
   "metadata": {},
   "outputs": [],
   "source": [
    "import torch\n",
    "import xarray as xr\n",
    "import numpy as np\n",
    "import torch.nn as nn\n",
    "import matplotlib.pyplot as plt"
   ]
  },
  {
   "cell_type": "code",
   "execution_count": 2,
   "metadata": {},
   "outputs": [
    {
     "name": "stdout",
     "output_type": "stream",
     "text": [
      "<xarray.Dataset> Size: 2TB\n",
      "Dimensions:                                           (time: 93544,\n",
      "                                                       longitude: 240,\n",
      "                                                       latitude: 121, level: 13)\n",
      "Coordinates:\n",
      "  * latitude                                          (latitude) float64 968B ...\n",
      "  * level                                             (level) int64 104B 50 ....\n",
      "  * longitude                                         (longitude) float64 2kB ...\n",
      "  * time                                              (time) datetime64[ns] 748kB ...\n",
      "Data variables: (12/62)\n",
      "    10m_u_component_of_wind                           (time, longitude, latitude) float32 11GB ...\n",
      "    10m_v_component_of_wind                           (time, longitude, latitude) float32 11GB ...\n",
      "    10m_wind_speed                                    (time, longitude, latitude) float32 11GB ...\n",
      "    2m_dewpoint_temperature                           (time, longitude, latitude) float32 11GB ...\n",
      "    2m_temperature                                    (time, longitude, latitude) float32 11GB ...\n",
      "    above_ground                                      (time, level, longitude, latitude) float32 141GB ...\n",
      "    ...                                                ...\n",
      "    volumetric_soil_water_layer_1                     (time, longitude, latitude) float32 11GB ...\n",
      "    volumetric_soil_water_layer_2                     (time, longitude, latitude) float32 11GB ...\n",
      "    volumetric_soil_water_layer_3                     (time, longitude, latitude) float32 11GB ...\n",
      "    volumetric_soil_water_layer_4                     (time, longitude, latitude) float32 11GB ...\n",
      "    vorticity                                         (time, level, longitude, latitude) float32 141GB ...\n",
      "    wind_speed                                        (time, level, longitude, latitude) float32 141GB ...\n"
     ]
    }
   ],
   "source": [
    "# Ruta al dataset en el bucket público de Google Cloud\n",
    "dataset_path = 'gs://weatherbench2/datasets/era5/1959-2023_01_10-6h-240x121_equiangular_with_poles_conservative.zarr'\n",
    "\n",
    "# Abrir el dataset\n",
    "ds = xr.open_zarr(dataset_path, consolidated=True)\n",
    "\n",
    "# Mostrar información del dataset\n",
    "print(ds)"
   ]
  },
  {
   "cell_type": "code",
   "execution_count": 3,
   "metadata": {},
   "outputs": [
    {
     "name": "stdout",
     "output_type": "stream",
     "text": [
      "Variables disponibles en el dataset:\n",
      "10m_u_component_of_wind\n",
      "10m_v_component_of_wind\n",
      "10m_wind_speed\n",
      "2m_dewpoint_temperature\n",
      "2m_temperature\n",
      "above_ground\n",
      "ageostrophic_wind_speed\n",
      "angle_of_sub_gridscale_orography\n",
      "anisotropy_of_sub_gridscale_orography\n",
      "boundary_layer_height\n",
      "divergence\n",
      "eddy_kinetic_energy\n",
      "geopotential\n",
      "geopotential_at_surface\n",
      "geostrophic_wind_speed\n",
      "high_vegetation_cover\n",
      "integrated_vapor_transport\n",
      "lake_cover\n",
      "land_sea_mask\n",
      "lapse_rate\n",
      "leaf_area_index_high_vegetation\n",
      "leaf_area_index_low_vegetation\n",
      "low_vegetation_cover\n",
      "mean_sea_level_pressure\n",
      "mean_surface_latent_heat_flux\n",
      "mean_surface_net_long_wave_radiation_flux\n",
      "mean_surface_net_short_wave_radiation_flux\n",
      "mean_surface_sensible_heat_flux\n",
      "mean_top_downward_short_wave_radiation_flux\n",
      "mean_top_net_long_wave_radiation_flux\n",
      "mean_top_net_short_wave_radiation_flux\n",
      "mean_vertically_integrated_moisture_divergence\n",
      "potential_vorticity\n",
      "relative_humidity\n",
      "sea_ice_cover\n",
      "sea_surface_temperature\n",
      "slope_of_sub_gridscale_orography\n",
      "snow_depth\n",
      "soil_type\n",
      "specific_humidity\n",
      "standard_deviation_of_filtered_subgrid_orography\n",
      "standard_deviation_of_orography\n",
      "surface_pressure\n",
      "temperature\n",
      "total_cloud_cover\n",
      "total_column_vapor\n",
      "total_column_water\n",
      "total_column_water_vapour\n",
      "total_precipitation_12hr\n",
      "total_precipitation_24hr\n",
      "total_precipitation_6hr\n",
      "type_of_high_vegetation\n",
      "type_of_low_vegetation\n",
      "u_component_of_wind\n",
      "v_component_of_wind\n",
      "vertical_velocity\n",
      "volumetric_soil_water_layer_1\n",
      "volumetric_soil_water_layer_2\n",
      "volumetric_soil_water_layer_3\n",
      "volumetric_soil_water_layer_4\n",
      "vorticity\n",
      "wind_speed\n"
     ]
    }
   ],
   "source": [
    "print(\"Variables disponibles en el dataset:\")\n",
    "for var_name in ds.data_vars:\n",
    "    print(var_name)"
   ]
  },
  {
   "cell_type": "code",
   "execution_count": 4,
   "metadata": {},
   "outputs": [],
   "source": [
    "region = ds.isel(latitude=slice(50, 100), longitude=slice(50, 100), time=slice(0, 10))"
   ]
  },
  {
   "cell_type": "code",
   "execution_count": 22,
   "metadata": {},
   "outputs": [
    {
     "name": "stdout",
     "output_type": "stream",
     "text": [
      "Latitudes seleccionadas: [-15.  -13.5 -12.  -10.5  -9.   -7.5  -6.   -4.5  -3.   -1.5   0.    1.5\n",
      "   3.    4.5   6.    7.5   9.   10.5  12.   13.5  15.   16.5  18.   19.5\n",
      "  21.   22.5  24.   25.5  27.   28.5  30.   31.5  33.   34.5  36.   37.5\n",
      "  39.   40.5  42.   43.5  45.   46.5  48.   49.5  51.   52.5  54.   55.5\n",
      "  57.   58.5]\n",
      "Longitudes seleccionadas: [ 75.   76.5  78.   79.5  81.   82.5  84.   85.5  87.   88.5  90.   91.5\n",
      "  93.   94.5  96.   97.5  99.  100.5 102.  103.5 105.  106.5 108.  109.5\n",
      " 111.  112.5 114.  115.5 117.  118.5 120.  121.5 123.  124.5 126.  127.5\n",
      " 129.  130.5 132.  133.5 135.  136.5 138.  139.5 141.  142.5 144.  145.5\n",
      " 147.  148.5]\n",
      "Tiempos seleccionados: ['1959-01-01T00:00:00.000000000' '1959-01-01T06:00:00.000000000'\n",
      " '1959-01-01T12:00:00.000000000' '1959-01-01T18:00:00.000000000'\n",
      " '1959-01-02T00:00:00.000000000' '1959-01-02T06:00:00.000000000'\n",
      " '1959-01-02T12:00:00.000000000' '1959-01-02T18:00:00.000000000'\n",
      " '1959-01-03T00:00:00.000000000' '1959-01-03T06:00:00.000000000']\n"
     ]
    }
   ],
   "source": [
    "print(\"Latitudes seleccionadas:\", region['latitude'].values)\n",
    "print(\"Longitudes seleccionadas:\", region['longitude'].values)\n",
    "print(\"Tiempos seleccionados:\", region['time'].values)"
   ]
  },
  {
   "cell_type": "code",
   "execution_count": 6,
   "metadata": {},
   "outputs": [],
   "source": [
    "# Normalización por tiempo, latitud y longitud\n",
    "u = (region['u_component_of_wind'].values - np.mean(region['u_component_of_wind'].values, axis=(0, 1, 2), keepdims=True)) / \\\n",
    "    np.std(region['u_component_of_wind'].values, axis=(0, 1, 2), keepdims=True)\n",
    "\n",
    "v = (region['v_component_of_wind'].values - np.mean(region['v_component_of_wind'].values, axis=(0, 1, 2), keepdims=True)) / \\\n",
    "    np.std(region['v_component_of_wind'].values, axis=(0, 1, 2), keepdims=True)\n",
    "\n",
    "p = (region['mean_sea_level_pressure'].values - np.mean(region['mean_sea_level_pressure'].values, axis=(0, 1, 2), keepdims=True)) / \\\n",
    "    np.std(region['mean_sea_level_pressure'].values, axis=(0, 1, 2), keepdims=True)\n",
    "\n",
    "T = (region['temperature'].values - np.mean(region['temperature'].values, axis=(0, 1, 2), keepdims=True)) / \\\n",
    "    np.std(region['temperature'].values, axis=(0, 1, 2), keepdims=True)\n",
    "\n",
    "q = (region['specific_humidity'].values - np.mean(region['specific_humidity'].values, axis=(0, 1, 2), keepdims=True)) / \\\n",
    "    np.std(region['specific_humidity'].values, axis=(0, 1, 2), keepdims=True)\n"
   ]
  },
  {
   "cell_type": "code",
   "execution_count": 7,
   "metadata": {},
   "outputs": [
    {
     "name": "stdout",
     "output_type": "stream",
     "text": [
      "(10, 13, 50, 50) (10, 13, 50, 50) (10, 50, 50) (10, 13, 50, 50) (10, 13, 50, 50)\n"
     ]
    }
   ],
   "source": [
    "print(u.shape, v.shape, p.shape, T.shape, q.shape)"
   ]
  },
  {
   "cell_type": "code",
   "execution_count": 8,
   "metadata": {},
   "outputs": [
    {
     "name": "stdout",
     "output_type": "stream",
     "text": [
      "u mean: -0.000, std: 1.000\n",
      "v mean: 0.000, std: 1.000\n",
      "p mean: -0.000, std: 1.000\n",
      "T mean: -0.000, std: 1.000\n",
      "q mean: -0.000, std: 1.000\n"
     ]
    }
   ],
   "source": [
    "print(f\"u mean: {np.mean(u):.3f}, std: {np.std(u):.3f}\")\n",
    "print(f\"v mean: {np.mean(v):.3f}, std: {np.std(v):.3f}\")\n",
    "print(f\"p mean: {np.mean(p):.3f}, std: {np.std(p):.3f}\")\n",
    "print(f\"T mean: {np.mean(T):.3f}, std: {np.std(T):.3f}\")\n",
    "print(f\"q mean: {np.mean(q):.3f}, std: {np.std(q):.3f}\")\n"
   ]
  },
  {
   "cell_type": "code",
   "execution_count": 9,
   "metadata": {},
   "outputs": [],
   "source": [
    "u_tensor = torch.tensor(u, dtype=torch.float32, requires_grad=True)\n",
    "v_tensor = torch.tensor(v, dtype=torch.float32, requires_grad=True)\n",
    "p_tensor = torch.tensor(p, dtype=torch.float32, requires_grad=True)\n",
    "T_tensor = torch.tensor(T, dtype=torch.float32, requires_grad=True)\n",
    "q_tensor = torch.tensor(q, dtype=torch.float32, requires_grad=True)"
   ]
  },
  {
   "cell_type": "code",
   "execution_count": 10,
   "metadata": {},
   "outputs": [],
   "source": [
    "latitudes = region['latitude'].values  # Coordenadas espaciales (latitud)\n",
    "longitudes = region['longitude'].values  # Coordenadas espaciales (longitud)\n",
    "times = region['time'].values  # Coordenadas temporales\n"
   ]
  },
  {
   "cell_type": "code",
   "execution_count": 11,
   "metadata": {},
   "outputs": [],
   "source": [
    "x_coords, y_coords, t_coords = np.meshgrid(longitudes, latitudes, times, indexing='ij')"
   ]
  },
  {
   "cell_type": "code",
   "execution_count": 12,
   "metadata": {},
   "outputs": [
    {
     "name": "stderr",
     "output_type": "stream",
     "text": [
      "C:\\Users\\Antonina\\AppData\\Local\\Temp\\ipykernel_17892\\177647037.py:1: UserWarning: no explicit representation of timezones available for np.datetime64\n",
      "  t_coords_numeric = (t_coords - np.datetime64('1970-01-01T00:00:00Z')) / np.timedelta64(1, 's')  # Tiempo en segundos desde el 1 de enero de 1970\n"
     ]
    }
   ],
   "source": [
    "t_coords_numeric = (t_coords - np.datetime64('1970-01-01T00:00:00Z')) / np.timedelta64(1, 's')  # Tiempo en segundos desde el 1 de enero de 1970"
   ]
  },
  {
   "cell_type": "code",
   "execution_count": 13,
   "metadata": {},
   "outputs": [],
   "source": [
    "x = np.stack([x_coords.flatten(), y_coords.flatten(), t_coords_numeric.flatten()], axis=1)\n"
   ]
  },
  {
   "cell_type": "code",
   "execution_count": 14,
   "metadata": {},
   "outputs": [],
   "source": [
    "x = torch.tensor(x, dtype=torch.float32, requires_grad=True)"
   ]
  },
  {
   "cell_type": "code",
   "execution_count": 15,
   "metadata": {},
   "outputs": [
    {
     "name": "stdout",
     "output_type": "stream",
     "text": [
      "torch.Size([25000, 3])\n"
     ]
    }
   ],
   "source": [
    "print(x.shape) "
   ]
  },
  {
   "cell_type": "code",
   "execution_count": 18,
   "metadata": {},
   "outputs": [],
   "source": [
    "class PINN(nn.Module):\n",
    "    def __init__(self):\n",
    "        super(PINN, self).__init__()\n",
    "        self.layers = nn.Sequential(\n",
    "            nn.Linear(3, 128),  # Entradas: x, y, t\n",
    "            nn.Tanh(),\n",
    "            nn.Linear(128, 128),\n",
    "            nn.Tanh(),\n",
    "            nn.Linear(128, 128),\n",
    "            nn.Tanh(),\n",
    "            nn.Linear(128, 5)  # Salidas: u, v, p, T, q\n",
    "        )\n",
    "\n",
    "    def forward(self, x):\n",
    "        return self.layers(x)\n"
   ]
  },
  {
   "cell_type": "code",
   "execution_count": 19,
   "metadata": {},
   "outputs": [],
   "source": [
    "def loss_pde_extended(model, x, u, v, p, T, q):\n",
    "    pred = model(x)\n",
    "    u_pred, v_pred, p_pred, T_pred, q_pred = pred[:, 0], pred[:, 1], pred[:, 2], pred[:, 3], pred[:, 4]\n",
    "\n",
    "    # Derivadas automáticas\n",
    "    u_t = torch.autograd.grad(u_pred.sum(), x, create_graph=True)[0][:, 2]  # ∂u/∂t\n",
    "    v_t = torch.autograd.grad(v_pred.sum(), x, create_graph=True)[0][:, 2]  # ∂v/∂t\n",
    "    T_t = torch.autograd.grad(T_pred.sum(), x, create_graph=True)[0][:, 2]  # ∂T/∂t\n",
    "    q_t = torch.autograd.grad(q_pred.sum(), x, create_graph=True)[0][:, 2]  # ∂q/∂t\n",
    "\n",
    "    u_x = torch.autograd.grad(u_pred.sum(), x, create_graph=True)[0][:, 0]  # ∂u/∂x\n",
    "    u_y = torch.autograd.grad(u_pred.sum(), x, create_graph=True)[0][:, 1]  # ∂u/∂y\n",
    "    v_x = torch.autograd.grad(v_pred.sum(), x, create_graph=True)[0][:, 0]  # ∂v/∂x\n",
    "    v_y = torch.autograd.grad(v_pred.sum(), x, create_graph=True)[0][:, 1]  # ∂v/∂y\n",
    "    T_x = torch.autograd.grad(T_pred.sum(), x, create_graph=True)[0][:, 0]  # ∂T/∂x\n",
    "    T_y = torch.autograd.grad(T_pred.sum(), x, create_graph=True)[0][:, 1]  # ∂T/∂y\n",
    "    q_x = torch.autograd.grad(q_pred.sum(), x, create_graph=True)[0][:, 0]  # ∂q/∂x\n",
    "    q_y = torch.autograd.grad(q_pred.sum(), x, create_graph=True)[0][:, 1]  # ∂q/∂y\n",
    "    p_x = torch.autograd.grad(p_pred.sum(), x, create_graph=True)[0][:, 0]  # ∂p/∂x\n",
    "    p_y = torch.autograd.grad(p_pred.sum(), x, create_graph=True)[0][:, 1]  # ∂p/∂y\n",
    "\n",
    "    # Residuales de las PDEs\n",
    "    momentum_u = u_t + u_pred * u_x + v_pred * u_y + p_x\n",
    "    momentum_v = v_t + u_pred * v_x + v_pred * v_y + p_y\n",
    "    continuity = u_x + v_y\n",
    "    energy = T_t + u_pred * T_x + v_pred * T_y\n",
    "    moisture = q_t + u_pred * q_x + v_pred * q_y\n",
    "\n",
    "    # **Diagnóstico: Imprimir valores promedio de los residuales**\n",
    "    if torch.isnan(momentum_u.mean()) or torch.isnan(momentum_v.mean()):\n",
    "        print(\"WARNING: Residuals contain NaN values!\")\n",
    "    # print(f\"Momentum_u mean: {momentum_u.mean().item()}, Momentum_v mean: {momentum_v.mean().item()}\")\n",
    "    # print(f\"Continuity mean: {continuity.mean().item()}\")\n",
    "    # print(f\"Energy mean: {energy.mean().item()}, Moisture mean: {moisture.mean().item()}\")\n",
    "\n",
    "    # Pérdida total\n",
    "    loss_physics = torch.mean(momentum_u**2 + momentum_v**2 + continuity**2 + energy**2 + moisture**2)\n",
    "    loss_regularization = torch.mean(u_pred**2 + v_pred**2 + p_pred**2 + T_pred**2 + q_pred**2)\n",
    "    loss_total = loss_physics + 1e-4 * loss_regularization\n",
    "    return loss_total\n"
   ]
  },
  {
   "cell_type": "code",
   "execution_count": 20,
   "metadata": {},
   "outputs": [],
   "source": [
    "def init_weights(m):\n",
    "    if isinstance(m, nn.Linear):\n",
    "        torch.nn.init.xavier_uniform_(m.weight)\n",
    "\n"
   ]
  },
  {
   "cell_type": "code",
   "execution_count": 21,
   "metadata": {},
   "outputs": [
    {
     "name": "stdout",
     "output_type": "stream",
     "text": [
      "Epoch 0, Loss: 0.00019946193788200617\n",
      "Epoch 100, Loss: 4.097922445822633e-09\n",
      "Epoch 200, Loss: 1.0429394029171438e-13\n",
      "Epoch 300, Loss: 1.5922925036158323e-16\n",
      "Epoch 400, Loss: 7.138095539022249e-17\n",
      "Epoch 500, Loss: 9.924761805339482e-17\n",
      "Epoch 600, Loss: 7.797470322045829e-17\n",
      "Epoch 700, Loss: 3.2128958923535576e-17\n",
      "Epoch 800, Loss: 6.573925687626888e-18\n",
      "Epoch 900, Loss: 3.667946145292454e-17\n"
     ]
    }
   ],
   "source": [
    "model = PINN()\n",
    "model.apply(init_weights)\n",
    "optimizer = torch.optim.AdamW(model.parameters(), lr=1e-4)\n",
    "\n",
    "# Convertir p a tensor y expandir\n",
    "p_tensor = torch.tensor(p, dtype=torch.float32, requires_grad=True)\n",
    "p_expanded = p_tensor.unsqueeze(1).repeat(1, T.shape[1], 1, 1)  # Repite para igualar el número de niveles\n",
    "\n",
    "loss_history = []\n",
    "\n",
    "# Entrenamiento\n",
    "epochs = 1000\n",
    "for epoch in range(epochs):\n",
    "    optimizer.zero_grad()\n",
    "    loss = loss_pde_extended(model, x, u_tensor, v_tensor, p_expanded, T_tensor, q_tensor)\n",
    "    loss.backward()\n",
    "    optimizer.step()\n",
    "    loss_history.append(loss.item())\n",
    "\n",
    "    if epoch % 100 == 0:\n",
    "        print(f\"Epoch {epoch}, Loss: {loss.item()}\")\n"
   ]
  },
  {
   "cell_type": "code",
   "execution_count": 68,
   "metadata": {},
   "outputs": [
    {
     "data": {
      "image/png": "[encoded data removed]",
      "text/plain": [
       "<Figure size 800x600 with 1 Axes>"
      ]
     },
     "metadata": {},
     "output_type": "display_data"
    }
   ],
   "source": [
    "plt.figure(figsize=(8, 6))\n",
    "plt.plot(range(epochs), loss_history, label=\"Loss\")\n",
    "plt.xlabel(\"Epoch\")\n",
    "plt.ylabel(\"Loss\")\n",
    "plt.title(\"Curva de Pérdida durante el Entrenamiento\")\n",
    "plt.legend()\n",
    "plt.grid()\n",
    "plt.show()"
   ]
  }
 ],
 "metadata": {
  "kernelspec": {
   "display_name": "climateExplore",
   "language": "python",
   "name": "python3"
  },
  "language_info": {
   "codemirror_mode": {
    "name": "ipython",
    "version": 3
   },
   "file_extension": ".py",
   "mimetype": "text/x-python",
   "name": "python",
   "nbconvert_exporter": "python",
   "pygments_lexer": "ipython3",
   "version": "3.10.16"
  }
 },
 "nbformat": 4,
 "nbformat_minor": 2
}
