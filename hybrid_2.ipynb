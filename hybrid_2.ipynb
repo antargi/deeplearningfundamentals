{
 "cells": [
  {
   "cell_type": "code",
   "execution_count": 18,
   "metadata": {},
   "outputs": [],
   "source": [
    "import torch\n",
    "import xarray as xr\n",
    "import numpy as np\n",
    "import torch.nn as nn\n",
    "import matplotlib.pyplot as plt\n",
    "import time\n",
    "from torch.utils.data import DataLoader, TensorDataset\n",
    "import dask\n",
    "from sklearn.preprocessing import StandardScaler\n",
    "from sklearn.model_selection import train_test_split\n",
    "from torch.utils.data import Dataset, DataLoader\n",
    "import torch.nn.functional as F\n",
    "from torch.optim.lr_scheduler import LambdaLR\n",
    "import torch.optim as optim"
   ]
  },
  {
   "cell_type": "code",
   "execution_count": 6,
   "metadata": {},
   "outputs": [
    {
     "name": "stdout",
     "output_type": "stream",
     "text": [
      "<xarray.Dataset> Size: 47MB\n",
      "Dimensions:              (time: 124, latitude: 157, longitude: 121)\n",
      "Coordinates:\n",
      "  * latitude             (latitude) float32 628B -17.0 -17.25 ... -55.75 -56.0\n",
      "    level                int64 8B ...\n",
      "  * longitude            (longitude) float32 484B 280.0 280.2 ... 309.8 310.0\n",
      "  * time                 (time) datetime64[ns] 992B 2010-01-01 ... 2010-01-31...\n",
      "Data variables:\n",
      "    geopotential         (time, latitude, longitude) float32 9MB dask.array<chunksize=(10, 50, 50), meta=np.ndarray>\n",
      "    specific_humidity    (time, latitude, longitude) float32 9MB dask.array<chunksize=(10, 50, 50), meta=np.ndarray>\n",
      "    temperature          (time, latitude, longitude) float32 9MB dask.array<chunksize=(10, 50, 50), meta=np.ndarray>\n",
      "    u_component_of_wind  (time, latitude, longitude) float32 9MB dask.array<chunksize=(10, 50, 50), meta=np.ndarray>\n",
      "    v_component_of_wind  (time, latitude, longitude) float32 9MB dask.array<chunksize=(10, 50, 50), meta=np.ndarray>\n"
     ]
    }
   ],
   "source": [
    "ds = xr.open_zarr(\"dataset/chile_2010_january.zarr\")\n",
    "print(ds)"
   ]
  },
  {
   "cell_type": "code",
   "execution_count": 9,
   "metadata": {},
   "outputs": [],
   "source": [
    "def preprocess_dataset(ds, variables, train_time_scale, val_time_scale, test_time_scale):\n",
    "    train_vars = [ds[var].sel(time=train_time_scale).values for var in variables]  # Entrenamiento\n",
    "    val_vars = [ds[var].sel(time=val_time_scale).values for var in variables]     # Validación\n",
    "    test_vars = [ds[var].sel(time=test_time_scale).values for var in variables]   # Prueba\n",
    "\n",
    "    train_data = np.array(train_vars)\n",
    "    val_data = np.array(val_vars)\n",
    "    test_data = np.array(test_vars)\n",
    "\n",
    "    train_data = torch.tensor(train_data, dtype=torch.float32)\n",
    "    val_data = torch.tensor(val_data, dtype=torch.float32)\n",
    "    test_data = torch.tensor(test_data, dtype=torch.float32)\n",
    "\n",
    "    lat, lon = train_data.shape[2], train_data.shape[3]\n",
    "\n",
    "    means = train_data.mean(dim=(1, 2, 3), keepdim=True)\n",
    "    stds = train_data.std(dim=(1, 2, 3), keepdim=True)\n",
    "    \n",
    "    train_data = (train_data - means) / stds\n",
    "    val_data = (val_data - means) / stds\n",
    "    test_data = (test_data - means) / stds\n",
    "\n",
    "    return train_data, val_data, test_data, lat, lon, means, stds"
   ]
  },
  {
   "cell_type": "code",
   "execution_count": 4,
   "metadata": {},
   "outputs": [],
   "source": [
    "train_time_scale = slice(\"2010-01-01\", \"2010-01-20\")\n",
    "val_time_scale = slice(\"2010-01-21\", \"2010-01-25\")\n",
    "test_time_scale = slice(\"2010-01-26\", \"2010-01-31\")"
   ]
  },
  {
   "cell_type": "code",
   "execution_count": 7,
   "metadata": {},
   "outputs": [],
   "source": [
    "variables = ['geopotential', 'specific_humidity', 'temperature', 'u_component_of_wind', 'v_component_of_wind']"
   ]
  },
  {
   "cell_type": "code",
   "execution_count": 13,
   "metadata": {},
   "outputs": [
    {
     "name": "stdout",
     "output_type": "stream",
     "text": [
      "Train Data Shape: torch.Size([80, 5, 157, 121])\n",
      "Validation Data Shape: torch.Size([20, 5, 157, 121])\n",
      "Test Data Shape: torch.Size([24, 5, 157, 121])\n"
     ]
    }
   ],
   "source": [
    "train_data, val_data, test_data, lat, lon, means, stds = preprocess_dataset(\n",
    "    ds, \n",
    "    variables, \n",
    "    train_time_scale, \n",
    "    val_time_scale, \n",
    "    test_time_scale\n",
    ")\n",
    "\n",
    "train_data = train_data.permute(1, 0, 2, 3)\n",
    "val_data = val_data.permute(1, 0, 2, 3)\n",
    "test_data = test_data.permute(1, 0, 2, 3)\n",
    "\n",
    "print(\"Train Data Shape:\", train_data.shape)\n",
    "print(\"Validation Data Shape:\", val_data.shape)\n",
    "print(\"Test Data Shape:\", test_data.shape)"
   ]
  },
  {
   "cell_type": "code",
   "execution_count": 14,
   "metadata": {},
   "outputs": [
    {
     "name": "stdout",
     "output_type": "stream",
     "text": [
      "Train Batch Shape: torch.Size([8, 5, 157, 121])\n"
     ]
    }
   ],
   "source": [
    "train_dataset = TensorDataset(train_data)\n",
    "val_dataset = TensorDataset(val_data)\n",
    "test_dataset = TensorDataset(test_data)\n",
    "\n",
    "batch_size = 8  \n",
    "train_loader = DataLoader(train_dataset, batch_size=batch_size, shuffle=True)\n",
    "val_loader = DataLoader(val_dataset, batch_size=batch_size, shuffle=False)\n",
    "test_loader = DataLoader(test_dataset, batch_size=batch_size, shuffle=False)\n",
    "\n",
    "for batch in train_loader:\n",
    "    print(\"Train Batch Shape:\", batch[0].shape)\n",
    "    break"
   ]
  },
  {
   "cell_type": "code",
   "execution_count": null,
   "metadata": {},
   "outputs": [],
   "source": [
    "class SimpleClimateModel(nn.Module):\n",
    "    def __init__(self, input_channels, output_channels):\n",
    "        super(SimpleClimateModel, self).__init__()\n",
    "        self.conv1 = nn.Conv2d(input_channels, 16, kernel_size=3, padding=1)\n",
    "        self.conv2 = nn.Conv2d(16, 32, kernel_size=3, padding=1)\n",
    "        self.conv3 = nn.Conv2d(32, output_channels, kernel_size=3, padding=1)\n",
    "        self.relu = nn.ReLU()\n",
    "        \n",
    "    def forward(self, x):\n",
    "        x = self.relu(self.conv1(x))\n",
    "        x = self.relu(self.conv2(x))\n",
    "        x = self.conv3(x)\n",
    "        return x\n"
   ]
  },
  {
   "cell_type": "code",
   "execution_count": 20,
   "metadata": {},
   "outputs": [],
   "source": [
    "def train_model(model, train_loader, val_loader, optimizer, loss_fn, device, epochs=5):\n",
    "    model.to(device)\n",
    "    for epoch in range(epochs):\n",
    "        # Entrenamiento\n",
    "        model.train()\n",
    "        train_loss = 0\n",
    "        for batch in train_loader:\n",
    "            optimizer.zero_grad()\n",
    "            input_data = batch[0].to(device)\n",
    "            output = model(input_data)\n",
    "            loss = loss_fn(output, input_data)\n",
    "            loss.backward()\n",
    "            optimizer.step()\n",
    "            train_loss += loss.item()\n",
    "        \n",
    "        # Validación\n",
    "        model.eval()\n",
    "        val_loss = 0\n",
    "        with torch.no_grad():\n",
    "            for batch in val_loader:\n",
    "                input_data = batch[0].to(device)\n",
    "                output = model(input_data)\n",
    "                loss = loss_fn(output, input_data)\n",
    "                val_loss += loss.item()\n",
    "        \n",
    "        # Imprimir pérdidas\n",
    "        print(f\"Epoch {epoch+1}/{epochs}, Training Loss: {train_loss/len(train_loader):.4f}, Validation Loss: {val_loss/len(val_loader):.4f}\")\n"
   ]
  },
  {
   "cell_type": "code",
   "execution_count": 21,
   "metadata": {},
   "outputs": [
    {
     "name": "stdout",
     "output_type": "stream",
     "text": [
      "Epoch 1/5, Training Loss: 0.8327, Validation Loss: 0.5052\n",
      "Epoch 2/5, Training Loss: 0.3452, Validation Loss: 0.2573\n",
      "Epoch 3/5, Training Loss: 0.2020, Validation Loss: 0.1568\n",
      "Epoch 4/5, Training Loss: 0.1196, Validation Loss: 0.0882\n",
      "Epoch 5/5, Training Loss: 0.0801, Validation Loss: 0.0674\n"
     ]
    }
   ],
   "source": [
    "epochs = 5\n",
    "model = SimpleClimateModel(input_channels, output_channels)\n",
    "optimizer = optim.Adam(model.parameters(), lr=1e-3)\n",
    "loss_fn = nn.MSELoss() \n",
    "device = torch.device(\"cuda\" if torch.cuda.is_available() else \"cpu\")\n",
    "model.to(device)\n",
    "train_model(model, train_loader, val_loader, optimizer, loss_fn, device, epochs=epochs)"
   ]
  },
  {
   "cell_type": "code",
   "execution_count": 22,
   "metadata": {},
   "outputs": [],
   "source": [
    "def evaluate_model(model, data_loader, loss_fn, device):\n",
    "    model.eval()\n",
    "    total_loss = 0\n",
    "    with torch.no_grad():\n",
    "        for batch in data_loader:\n",
    "            input_data = batch[0].to(device)\n",
    "            output = model(input_data)\n",
    "            loss = loss_fn(output, input_data)\n",
    "            total_loss += loss.item()\n",
    "    return total_loss / len(data_loader)\n"
   ]
  },
  {
   "cell_type": "code",
   "execution_count": 23,
   "metadata": {},
   "outputs": [
    {
     "name": "stdout",
     "output_type": "stream",
     "text": [
      "Test Loss: 0.0814\n"
     ]
    }
   ],
   "source": [
    "test_loss = evaluate_model(model, test_loader, loss_fn, device)\n",
    "print(f\"Test Loss: {test_loss:.4f}\")\n"
   ]
  },
  {
   "cell_type": "code",
   "execution_count": 24,
   "metadata": {},
   "outputs": [
    {
     "name": "stdout",
     "output_type": "stream",
     "text": [
      "Mean Absolute Error (MAE): 0.2078\n"
     ]
    }
   ],
   "source": [
    "def mean_absolute_error(model, data_loader, device):\n",
    "    model.eval()\n",
    "    total_mae = 0\n",
    "    with torch.no_grad():\n",
    "        for batch in data_loader:\n",
    "            input_data = batch[0].to(device)\n",
    "            output = model(input_data)\n",
    "            mae = torch.abs(output - input_data).mean().item()\n",
    "            total_mae += mae\n",
    "    return total_mae / len(data_loader)\n",
    "\n",
    "test_mae = mean_absolute_error(model, test_loader, device)\n",
    "print(f\"Mean Absolute Error (MAE): {test_mae:.4f}\")\n"
   ]
  },
  {
   "cell_type": "code",
   "execution_count": 29,
   "metadata": {},
   "outputs": [],
   "source": [
    "def generate_spatial_embeddings(latitudes, longitudes):\n",
    "    \"\"\"\n",
    "    Genera embeddings trigonométricos para latitud y longitud.\n",
    "    \"\"\"\n",
    "    lat_rad = torch.tensor(np.radians(latitudes), dtype=torch.float32)  # Convertir a radianes\n",
    "    lon_rad = torch.tensor(np.radians(longitudes), dtype=torch.float32)\n",
    "\n",
    "    # Expandir dimensiones para generar una cuadrícula completa\n",
    "    sin_lat = torch.sin(lat_rad).unsqueeze(1).expand(-1, len(longitudes))  # Shape: (lat, lon)\n",
    "    cos_lat = torch.cos(lat_rad).unsqueeze(1).expand(-1, len(longitudes))\n",
    "    sin_lon = torch.sin(lon_rad).unsqueeze(0).expand(len(latitudes), -1)  # Shape: (lat, lon)\n",
    "    cos_lon = torch.cos(lon_rad).unsqueeze(0).expand(len(latitudes), -1)\n",
    "\n",
    "    # Combinar embeddings en una cuadrícula de 4 canales\n",
    "    spatial_embeddings = torch.stack([\n",
    "        sin_lat * cos_lon, sin_lat * sin_lon,\n",
    "        cos_lat * cos_lon, cos_lat * sin_lon\n",
    "    ], dim=0)  # Shape: (4, lat, lon)\n",
    "\n",
    "    return spatial_embeddings\n"
   ]
  },
  {
   "cell_type": "code",
   "execution_count": 26,
   "metadata": {},
   "outputs": [],
   "source": [
    "def generate_temporal_embeddings(time_steps):\n",
    "    \"\"\"\n",
    "    Genera embeddings temporales usando funciones trigonométricas.\n",
    "    \"\"\"\n",
    "    day_of_year = (time_steps.dayofyear / 365.0) * 2 * np.pi\n",
    "    hour_of_day = (time_steps.hour / 24.0) * 2 * np.pi\n",
    "\n",
    "    # Embeddings seno y coseno\n",
    "    sin_day = torch.sin(torch.tensor(day_of_year, dtype=torch.float32)).unsqueeze(1)\n",
    "    cos_day = torch.cos(torch.tensor(day_of_year, dtype=torch.float32)).unsqueeze(1)\n",
    "    sin_hour = torch.sin(torch.tensor(hour_of_day, dtype=torch.float32)).unsqueeze(1)\n",
    "    cos_hour = torch.cos(torch.tensor(hour_of_day, dtype=torch.float32)).unsqueeze(1)\n",
    "\n",
    "    # Combinar embeddings\n",
    "    temporal_embeddings = torch.cat([sin_day, cos_day, sin_hour, cos_hour], dim=1)  # Shape: (time, 4)\n",
    "    return temporal_embeddings"
   ]
  },
  {
   "cell_type": "code",
   "execution_count": 30,
   "metadata": {},
   "outputs": [
    {
     "name": "stdout",
     "output_type": "stream",
     "text": [
      "Spatial Embeddings Shape: torch.Size([4, 157, 121])\n"
     ]
    }
   ],
   "source": [
    "latitudes = ds.latitude.values\n",
    "longitudes = ds.longitude.values\n",
    "spatial_embeddings = generate_spatial_embeddings(latitudes, longitudes)\n",
    "print(\"Spatial Embeddings Shape:\", spatial_embeddings.shape)  # Esperado: (4, lat, lon)"
   ]
  },
  {
   "cell_type": "code",
   "execution_count": 28,
   "metadata": {},
   "outputs": [
    {
     "name": "stdout",
     "output_type": "stream",
     "text": [
      "Temporal Embeddings Shape: torch.Size([124, 4])\n"
     ]
    }
   ],
   "source": [
    "time_steps = ds.time.to_index()  # Convertir a datetime\n",
    "temporal_embeddings = generate_temporal_embeddings(time_steps)\n",
    "print(\"Temporal Embeddings Shape:\", temporal_embeddings.shape) "
   ]
  },
  {
   "cell_type": "code",
   "execution_count": 38,
   "metadata": {},
   "outputs": [
    {
     "name": "stdout",
     "output_type": "stream",
     "text": [
      "Combined Data Shape: torch.Size([80, 13, 157, 121])\n"
     ]
    }
   ],
   "source": [
    "# Índices del tiempo de entrenamiento\n",
    "train_time_indices = range(len(train_data))  # 80 pasos de tiempo\n",
    "\n",
    "# Ajustar embeddings espaciales para el tiempo de entrenamiento\n",
    "spatial_embeddings_expanded = spatial_embeddings.unsqueeze(0).expand(len(train_time_indices), -1, -1, -1)  # Shape: (80, 4, 157, 121)\n",
    "\n",
    "# Ajustar embeddings temporales para el tiempo de entrenamiento\n",
    "temporal_embeddings_expanded = temporal_embeddings[train_time_indices].unsqueeze(-1).unsqueeze(-1)  # (80, 4, 1, 1)\n",
    "temporal_embeddings_expanded = temporal_embeddings_expanded.expand(-1, -1, len(ds.latitude), len(ds.longitude))  # Shape: (80, 4, 157, 121)\n",
    "\n",
    "# Combinar datos climáticos con embeddings espaciales y temporales\n",
    "combined_data = torch.cat([train_data, spatial_embeddings_expanded, temporal_embeddings_expanded], dim=1)\n",
    "print(\"Combined Data Shape:\", combined_data.shape)  # Esperado: (80, 13, 157, 121)\n"
   ]
  },
  {
   "cell_type": "code",
   "execution_count": 39,
   "metadata": {},
   "outputs": [],
   "source": [
    "class ClimateModelWithEmbeddings(nn.Module):\n",
    "    def __init__(self, input_channels, output_channels):\n",
    "        super(ClimateModelWithEmbeddings, self).__init__()\n",
    "        self.conv1 = nn.Conv2d(input_channels, 32, kernel_size=3, padding=1)\n",
    "        self.conv2 = nn.Conv2d(32, 64, kernel_size=3, padding=1)\n",
    "        self.conv3 = nn.Conv2d(64, output_channels, kernel_size=3, padding=1)\n",
    "        self.relu = nn.ReLU()\n",
    "        \n",
    "    def forward(self, x):\n",
    "        x = self.relu(self.conv1(x))\n",
    "        x = self.relu(self.conv2(x))\n",
    "        x = self.conv3(x)\n",
    "        return x"
   ]
  },
  {
   "cell_type": "code",
   "execution_count": 48,
   "metadata": {},
   "outputs": [],
   "source": [
    "combined_dataset = TensorDataset(combined_data)\n",
    "combined_train_loader = DataLoader(combined_dataset, batch_size=8, shuffle=True)"
   ]
  },
  {
   "cell_type": "code",
   "execution_count": 63,
   "metadata": {},
   "outputs": [],
   "source": [
    "spatial_embeddings_val = spatial_embeddings.unsqueeze(0).expand(len(val_data), -1, -1, -1) \n",
    "\n",
    "temporal_embeddings_val = temporal_embeddings[:len(val_data)].unsqueeze(-1).unsqueeze(-1)  \n",
    "temporal_embeddings_val = temporal_embeddings_val.expand(-1, -1, len(ds.latitude), len(ds.longitude))  \n",
    "\n",
    "combined_val_data = torch.cat([val_data, spatial_embeddings_val, temporal_embeddings_val], dim=1) \n",
    "\n",
    "combined_val_dataset = TensorDataset(combined_val_data)\n",
    "combined_val_loader = DataLoader(combined_val_dataset, batch_size=8, shuffle=False)\n"
   ]
  },
  {
   "cell_type": "code",
   "execution_count": 64,
   "metadata": {},
   "outputs": [
    {
     "data": {
      "text/plain": [
       "torch.Size([20, 13, 157, 121])"
      ]
     },
     "execution_count": 64,
     "metadata": {},
     "output_type": "execute_result"
    }
   ],
   "source": [
    "combined_val_data.shape"
   ]
  },
  {
   "cell_type": "code",
   "execution_count": 67,
   "metadata": {},
   "outputs": [],
   "source": [
    "# Ajustar embeddings temporales para el conjunto de prueba\n",
    "temporal_embeddings_test = temporal_embeddings[:len(test_data)].unsqueeze(-1).unsqueeze(-1)  # (24, 4, 1, 1)\n",
    "temporal_embeddings_test = temporal_embeddings_test.expand(-1, -1, len(ds.latitude), len(ds.longitude))  # (24, 4, 157, 121)\n",
    "\n",
    "# Combinar datos climáticos con embeddings espaciales y temporales para prueba\n",
    "spatial_embeddings_test = spatial_embeddings.unsqueeze(0).expand(len(test_data), -1, -1, -1)  # (24, 4, 157, 121)\n",
    "combined_test_data = torch.cat([test_data, spatial_embeddings_test, temporal_embeddings_test], dim=1)  # (24, 13, 157, 121)\n",
    "\n",
    "# Crear DataLoader para prueba\n",
    "combined_test_dataset = TensorDataset(combined_test_data)\n",
    "combined_test_loader = DataLoader(combined_test_dataset, batch_size=8, shuffle=False)\n"
   ]
  },
  {
   "cell_type": "code",
   "execution_count": 68,
   "metadata": {},
   "outputs": [
    {
     "data": {
      "text/plain": [
       "torch.Size([24, 13, 157, 121])"
      ]
     },
     "execution_count": 68,
     "metadata": {},
     "output_type": "execute_result"
    }
   ],
   "source": [
    "combined_test_data.shape"
   ]
  },
  {
   "cell_type": "code",
   "execution_count": 65,
   "metadata": {},
   "outputs": [
    {
     "name": "stdout",
     "output_type": "stream",
     "text": [
      "Epoch 1/5, Training Loss: 0.3744, Validation Loss: 0.1928\n",
      "Epoch 2/5, Training Loss: 0.1375, Validation Loss: 0.0998\n",
      "Epoch 3/5, Training Loss: 0.0728, Validation Loss: 0.0527\n",
      "Epoch 4/5, Training Loss: 0.0378, Validation Loss: 0.0341\n",
      "Epoch 5/5, Training Loss: 0.0269, Validation Loss: 0.0264\n"
     ]
    }
   ],
   "source": [
    "input_channels = 13  # 5 variables climáticas + 4 embeddings espaciales + 4 embeddings temporales\n",
    "output_channels = 13  # Reconstruir todos los canales\n",
    "model = ClimateModelWithEmbeddings(input_channels, output_channels)\n",
    "optimizer = torch.optim.Adam(model.parameters(), lr=1e-3)\n",
    "loss_fn = nn.MSELoss()  # Pérdida basada en el error cuadrático medio\n",
    "device = torch.device(\"cuda\" if torch.cuda.is_available() else \"cpu\")\n",
    "model.to(device)\n",
    "\n",
    "epochs = 5  # Número de épocas\n",
    "for epoch in range(epochs):\n",
    "    # Modo entrenamiento\n",
    "    model.train()\n",
    "    train_loss = 0\n",
    "    for batch in combined_train_loader:\n",
    "        optimizer.zero_grad()\n",
    "        input_data = batch[0].to(device)  # Usar datos combinados\n",
    "        output = model(input_data)  # Pasada hacia adelante\n",
    "        loss = loss_fn(output, input_data)  # Pérdida basada en la reconstrucción\n",
    "        loss.backward()  # Gradiente hacia atrás\n",
    "        optimizer.step()  # Actualizar los parámetros del modelo\n",
    "        train_loss += loss.item()\n",
    "    \n",
    "    # Pérdida de entrenamiento para esta época\n",
    "    avg_train_loss = train_loss / len(combined_train_loader)\n",
    "\n",
    "    # Validación\n",
    "    model.eval()\n",
    "    val_loss = 0\n",
    "    with torch.no_grad():\n",
    "        for batch in combined_val_loader:  # Usar el nuevo val_loader combinado\n",
    "            input_data = batch[0].to(device)  # Datos combinados\n",
    "            output = model(input_data)\n",
    "            loss = loss_fn(output, input_data)\n",
    "            val_loss += loss.item()\n",
    "    \n",
    "    # Pérdida promedio de validación\n",
    "    avg_val_loss = val_loss / len(combined_val_loader)\n",
    "    \n",
    "    # Imprimir pérdidas de la época\n",
    "    print(f\"Epoch {epoch+1}/{epochs}, Training Loss: {avg_train_loss:.4f}, Validation Loss: {avg_val_loss:.4f}\")\n",
    "\n"
   ]
  },
  {
   "cell_type": "code",
   "execution_count": 69,
   "metadata": {},
   "outputs": [
    {
     "name": "stdout",
     "output_type": "stream",
     "text": [
      "Test Loss: 0.0254\n"
     ]
    }
   ],
   "source": [
    "model.eval()\n",
    "test_loss = 0\n",
    "with torch.no_grad():\n",
    "    for batch in combined_test_loader:  # Usar el DataLoader combinado del conjunto de prueba\n",
    "        input_data = batch[0].to(device)  # Datos combinados\n",
    "        output = model(input_data)\n",
    "        loss = loss_fn(output, input_data)  # Pérdida basada en la reconstrucción\n",
    "        test_loss += loss.item()\n",
    "\n",
    "avg_test_loss = test_loss / len(combined_test_loader)\n",
    "print(f\"Test Loss: {avg_test_loss:.4f}\")"
   ]
  },
  {
   "cell_type": "code",
   "execution_count": 70,
   "metadata": {},
   "outputs": [],
   "source": [
    "# Función para calcular el gradiente de un tensor en dirección espacial\n",
    "def compute_gradient(x, dim):\n",
    "    return torch.gradient(x, dim=dim)[0]\n",
    "\n",
    "# Función que incorpora las restricciones físicas de advección\n",
    "def physics_loss(temperature, u, v, dx, dy):\n",
    "    # Gradientes de la temperatura en las direcciones espaciales\n",
    "    grad_T_x = compute_gradient(temperature, 3)  # Gradiente en la dirección x (lon)\n",
    "    grad_T_y = compute_gradient(temperature, 2)  # Gradiente en la dirección y (lat)\n",
    "    \n",
    "    # Cálculo de la advección (producto de la velocidad y gradiente)\n",
    "    advection_x = u * grad_T_x\n",
    "    advection_y = v * grad_T_y\n",
    "    \n",
    "    # Cálculo de la ecuación de advección\n",
    "    loss = torch.mean((advection_x + advection_y)**2)  # La pérdida debe ser pequeña\n",
    "    return loss\n",
    "\n",
    "# Modificar la función de pérdida para incluir la física\n",
    "def combined_loss(output, input_data, u, v, dx, dy):\n",
    "    data_loss = nn.MSELoss()(output, input_data)  # Pérdida basada en la reconstrucción\n",
    "    pde_loss = physics_loss(output, u, v, dx, dy)  # Pérdida basada en la física\n",
    "    return data_loss + pde_loss  # Combinamos ambas pérdidas\n"
   ]
  },
  {
   "cell_type": "code",
   "execution_count": 77,
   "metadata": {},
   "outputs": [],
   "source": [
    "def get_wind_components(input_data):\n",
    "    u = input_data[:, 3, :, :].unsqueeze(1)  # Agregar dimensión de canal\n",
    "    v = input_data[:, 4, :, :].unsqueeze(1)  # Agregar dimensión de canal\n",
    "    return u, v"
   ]
  },
  {
   "cell_type": "code",
   "execution_count": 86,
   "metadata": {},
   "outputs": [
    {
     "name": "stdout",
     "output_type": "stream",
     "text": [
      "Epoch 1/100, Training Loss: 0.3677, Validation Loss: 0.1835\n",
      "Epoch 2/100, Training Loss: 0.1464, Validation Loss: 0.0971\n",
      "Epoch 3/100, Training Loss: 0.0711, Validation Loss: 0.0592\n",
      "Epoch 4/100, Training Loss: 0.0457, Validation Loss: 0.0441\n",
      "Epoch 5/100, Training Loss: 0.0336, Validation Loss: 0.0358\n",
      "Epoch 6/100, Training Loss: 0.0253, Validation Loss: 0.0286\n",
      "Epoch 7/100, Training Loss: 0.0216, Validation Loss: 0.0281\n",
      "Epoch 8/100, Training Loss: 0.0195, Validation Loss: 0.0268\n",
      "Epoch 9/100, Training Loss: 0.0182, Validation Loss: 0.0241\n",
      "Epoch 10/100, Training Loss: 0.0169, Validation Loss: 0.0222\n",
      "Epoch 11/100, Training Loss: 0.0160, Validation Loss: 0.0211\n",
      "Epoch 12/100, Training Loss: 0.0152, Validation Loss: 0.0206\n",
      "Epoch 13/100, Training Loss: 0.0147, Validation Loss: 0.0187\n",
      "Epoch 14/100, Training Loss: 0.0142, Validation Loss: 0.0187\n",
      "Epoch 15/100, Training Loss: 0.0137, Validation Loss: 0.0189\n",
      "Epoch 16/100, Training Loss: 0.0133, Validation Loss: 0.0171\n",
      "Epoch 17/100, Training Loss: 0.0128, Validation Loss: 0.0169\n",
      "Epoch 18/100, Training Loss: 0.0124, Validation Loss: 0.0162\n",
      "Epoch 19/100, Training Loss: 0.0120, Validation Loss: 0.0179\n",
      "Epoch 20/100, Training Loss: 0.0118, Validation Loss: 0.0161\n",
      "Epoch 21/100, Training Loss: 0.0114, Validation Loss: 0.0160\n",
      "Epoch 22/100, Training Loss: 0.0111, Validation Loss: 0.0156\n",
      "Epoch 23/100, Training Loss: 0.0110, Validation Loss: 0.0151\n",
      "Epoch 24/100, Training Loss: 0.0111, Validation Loss: 0.0167\n",
      "Epoch 25/100, Training Loss: 0.0109, Validation Loss: 0.0141\n",
      "Epoch 26/100, Training Loss: 0.0105, Validation Loss: 0.0138\n",
      "Epoch 27/100, Training Loss: 0.0102, Validation Loss: 0.0142\n",
      "Epoch 28/100, Training Loss: 0.0099, Validation Loss: 0.0129\n",
      "Epoch 29/100, Training Loss: 0.0096, Validation Loss: 0.0136\n",
      "Epoch 30/100, Training Loss: 0.0098, Validation Loss: 0.0128\n",
      "Epoch 31/100, Training Loss: 0.0094, Validation Loss: 0.0129\n",
      "Epoch 32/100, Training Loss: 0.0096, Validation Loss: 0.0137\n",
      "Epoch 33/100, Training Loss: 0.0102, Validation Loss: 0.0161\n",
      "Epoch 34/100, Training Loss: 0.0105, Validation Loss: 0.0152\n",
      "Epoch 35/100, Training Loss: 0.0151, Validation Loss: 0.0186\n",
      "Epoch 36/100, Training Loss: 0.0148, Validation Loss: 0.0148\n",
      "Epoch 37/100, Training Loss: 0.0115, Validation Loss: 0.0141\n",
      "Epoch 38/100, Training Loss: 0.0103, Validation Loss: 0.0131\n",
      "Epoch 39/100, Training Loss: 0.0097, Validation Loss: 0.0121\n",
      "Epoch 40/100, Training Loss: 0.0087, Validation Loss: 0.0114\n",
      "Epoch 41/100, Training Loss: 0.0084, Validation Loss: 0.0112\n",
      "Epoch 42/100, Training Loss: 0.0082, Validation Loss: 0.0108\n",
      "Epoch 43/100, Training Loss: 0.0080, Validation Loss: 0.0106\n",
      "Epoch 44/100, Training Loss: 0.0078, Validation Loss: 0.0105\n",
      "Epoch 45/100, Training Loss: 0.0077, Validation Loss: 0.0104\n",
      "Epoch 46/100, Training Loss: 0.0076, Validation Loss: 0.0103\n",
      "Epoch 47/100, Training Loss: 0.0076, Validation Loss: 0.0101\n",
      "Epoch 48/100, Training Loss: 0.0075, Validation Loss: 0.0098\n",
      "Epoch 49/100, Training Loss: 0.0074, Validation Loss: 0.0097\n",
      "Epoch 50/100, Training Loss: 0.0074, Validation Loss: 0.0099\n",
      "Epoch 51/100, Training Loss: 0.0073, Validation Loss: 0.0097\n",
      "Epoch 52/100, Training Loss: 0.0072, Validation Loss: 0.0096\n",
      "Epoch 53/100, Training Loss: 0.0072, Validation Loss: 0.0093\n",
      "Epoch 54/100, Training Loss: 0.0071, Validation Loss: 0.0094\n",
      "Epoch 55/100, Training Loss: 0.0071, Validation Loss: 0.0095\n",
      "Epoch 56/100, Training Loss: 0.0070, Validation Loss: 0.0090\n",
      "Epoch 57/100, Training Loss: 0.0068, Validation Loss: 0.0091\n",
      "Epoch 58/100, Training Loss: 0.0068, Validation Loss: 0.0090\n",
      "Epoch 59/100, Training Loss: 0.0069, Validation Loss: 0.0092\n",
      "Epoch 60/100, Training Loss: 0.0069, Validation Loss: 0.0090\n",
      "Epoch 61/100, Training Loss: 0.0067, Validation Loss: 0.0087\n",
      "Epoch 62/100, Training Loss: 0.0066, Validation Loss: 0.0087\n",
      "Epoch 63/100, Training Loss: 0.0066, Validation Loss: 0.0085\n",
      "Epoch 64/100, Training Loss: 0.0065, Validation Loss: 0.0085\n",
      "Epoch 65/100, Training Loss: 0.0066, Validation Loss: 0.0085\n",
      "Epoch 66/100, Training Loss: 0.0065, Validation Loss: 0.0089\n",
      "Epoch 67/100, Training Loss: 0.0068, Validation Loss: 0.0086\n",
      "Epoch 68/100, Training Loss: 0.0073, Validation Loss: 0.0095\n",
      "Epoch 69/100, Training Loss: 0.0072, Validation Loss: 0.0107\n",
      "Epoch 70/100, Training Loss: 0.0083, Validation Loss: 0.0091\n",
      "Epoch 71/100, Training Loss: 0.0072, Validation Loss: 0.0090\n",
      "Epoch 72/100, Training Loss: 0.0102, Validation Loss: 0.0102\n",
      "Epoch 73/100, Training Loss: 0.0080, Validation Loss: 0.0102\n",
      "Epoch 74/100, Training Loss: 0.0069, Validation Loss: 0.0093\n",
      "Epoch 75/100, Training Loss: 0.0069, Validation Loss: 0.0085\n",
      "Epoch 76/100, Training Loss: 0.0067, Validation Loss: 0.0087\n",
      "Epoch 77/100, Training Loss: 0.0066, Validation Loss: 0.0085\n",
      "Epoch 78/100, Training Loss: 0.0063, Validation Loss: 0.0080\n",
      "Epoch 79/100, Training Loss: 0.0061, Validation Loss: 0.0080\n",
      "Epoch 80/100, Training Loss: 0.0061, Validation Loss: 0.0081\n",
      "Epoch 81/100, Training Loss: 0.0060, Validation Loss: 0.0078\n",
      "Epoch 82/100, Training Loss: 0.0060, Validation Loss: 0.0078\n",
      "Epoch 83/100, Training Loss: 0.0059, Validation Loss: 0.0077\n",
      "Epoch 84/100, Training Loss: 0.0058, Validation Loss: 0.0077\n",
      "Epoch 85/100, Training Loss: 0.0059, Validation Loss: 0.0076\n",
      "Epoch 86/100, Training Loss: 0.0059, Validation Loss: 0.0076\n",
      "Epoch 87/100, Training Loss: 0.0059, Validation Loss: 0.0075\n",
      "Epoch 88/100, Training Loss: 0.0058, Validation Loss: 0.0074\n",
      "Epoch 89/100, Training Loss: 0.0057, Validation Loss: 0.0074\n",
      "Epoch 90/100, Training Loss: 0.0058, Validation Loss: 0.0077\n",
      "Epoch 91/100, Training Loss: 0.0059, Validation Loss: 0.0075\n",
      "Epoch 92/100, Training Loss: 0.0058, Validation Loss: 0.0075\n",
      "Epoch 93/100, Training Loss: 0.0057, Validation Loss: 0.0075\n",
      "Epoch 94/100, Training Loss: 0.0057, Validation Loss: 0.0074\n",
      "Epoch 95/100, Training Loss: 0.0057, Validation Loss: 0.0073\n",
      "Epoch 96/100, Training Loss: 0.0057, Validation Loss: 0.0073\n",
      "Epoch 97/100, Training Loss: 0.0058, Validation Loss: 0.0075\n",
      "Epoch 98/100, Training Loss: 0.0058, Validation Loss: 0.0073\n",
      "Epoch 99/100, Training Loss: 0.0057, Validation Loss: 0.0075\n",
      "Epoch 100/100, Training Loss: 0.0057, Validation Loss: 0.0077\n"
     ]
    }
   ],
   "source": [
    "input_channels = 13  # 5 variables climáticas + 4 embeddings espaciales + 4 embeddings temporales\n",
    "output_channels = 13  # Reconstruir todos los canales\n",
    "model = ClimateModelWithEmbeddings(input_channels, output_channels)\n",
    "optimizer = torch.optim.Adam(model.parameters(), lr=1e-3)\n",
    "loss_fn = nn.MSELoss()  # Pérdida basada en el error cuadrático medio\n",
    "device = torch.device(\"cuda\" if torch.cuda.is_available() else \"cpu\")\n",
    "model.to(device)\n",
    "\n",
    "# Entrenamiento con PINNs\n",
    "epochs = 100  # Número de épocas\n",
    "for epoch in range(epochs):\n",
    "    model.train()\n",
    "    train_loss = 0\n",
    "    for batch in combined_train_loader:\n",
    "        optimizer.zero_grad()\n",
    "        input_data = batch[0].to(device)  # Usar datos combinados\n",
    "        output = model(input_data)  # Pasada hacia adelante\n",
    "        \n",
    "        # Asumiendo que tenemos los valores de viento (u, v)\n",
    "        u, v = get_wind_components(input_data)  # Función para obtener u y v (debe ser definida)\n",
    "        dx, dy = 1, 1  # Si es necesario, ajusta estos valores según la resolución espacial\n",
    "\n",
    "        # Usar la función de pérdida combinada\n",
    "        loss = combined_loss(output, input_data, u, v, dx, dy)\n",
    "        loss.backward()  # Gradiente hacia atrás\n",
    "        optimizer.step()  # Actualizar los parámetros del modelo\n",
    "        train_loss += loss.item()\n",
    "    \n",
    "    # Pérdida promedio de entrenamiento para la época actual\n",
    "    avg_train_loss = train_loss / len(combined_train_loader)\n",
    "    \n",
    "    # Evaluación\n",
    "    model.eval()\n",
    "    val_loss = 0\n",
    "    with torch.no_grad():\n",
    "        for batch in combined_val_loader:  # Usar el DataLoader combinado de validación\n",
    "            input_data = batch[0].to(device)\n",
    "            output = model(input_data)\n",
    "            \n",
    "            u, v = get_wind_components(input_data)  # Obtener u, v\n",
    "            loss = combined_loss(output, input_data, u, v, dx, dy)\n",
    "            val_loss += loss.item()\n",
    "    \n",
    "    avg_val_loss = val_loss / len(combined_val_loader)\n",
    "    print(f\"Epoch {epoch+1}/{epochs}, Training Loss: {avg_train_loss:.4f}, Validation Loss: {avg_val_loss:.4f}\")\n"
   ]
  },
  {
   "cell_type": "code",
   "execution_count": 87,
   "metadata": {},
   "outputs": [
    {
     "name": "stdout",
     "output_type": "stream",
     "text": [
      "Test Loss: 0.0070\n"
     ]
    }
   ],
   "source": [
    "# Evaluación en el conjunto de prueba\n",
    "model.eval()\n",
    "test_loss = 0\n",
    "with torch.no_grad():\n",
    "    for batch in combined_test_loader:\n",
    "        input_data = batch[0].to(device)  # Datos combinados del conjunto de prueba\n",
    "        output = model(input_data)  # Predicción del modelo\n",
    "        \n",
    "        u, v = get_wind_components(input_data)  # Obtener componentes del viento\n",
    "        dx, dy = 1, 1  # Ajustar si es necesario según la resolución espacial\n",
    "        \n",
    "        # Pérdida combinada (reconstrucción + física)\n",
    "        loss = combined_loss(output, input_data, u, v, dx, dy)\n",
    "        test_loss += loss.item()\n",
    "\n",
    "# Pérdida promedio del conjunto de prueba\n",
    "avg_test_loss = test_loss / len(combined_test_loader)\n",
    "print(f\"Test Loss: {avg_test_loss:.4f}\")\n"
   ]
  },
  {
   "cell_type": "code",
   "execution_count": 88,
   "metadata": {},
   "outputs": [
    {
     "data": {
      "image/png": "[encoded data removed]",
      "text/plain": [
       "<Figure size 1200x600 with 4 Axes>"
      ]
     },
     "metadata": {},
     "output_type": "display_data"
    }
   ],
   "source": [
    "# Elegir un batch del conjunto de prueba\n",
    "batch = next(iter(combined_test_loader))\n",
    "input_data = batch[0].to(device)  # Datos reales combinados\n",
    "output = model(input_data).detach().cpu()  # Predicción del modelo (sin gradientes)\n",
    "\n",
    "# Seleccionar una variable (ejemplo: temperatura en el canal 2)\n",
    "variable_index = 2  # Índice de la variable climática a visualizar\n",
    "real_data = input_data[:, variable_index, :, :].cpu().numpy()  # Datos reales\n",
    "predicted_data = output[:, variable_index, :, :].numpy()  # Predicciones del modelo\n",
    "\n",
    "# Elegir un paso de tiempo específico\n",
    "time_step = 0  # Puedes cambiar el índice del batch aquí\n",
    "\n",
    "# Visualizar los datos reales y predicciones\n",
    "plt.figure(figsize=(12, 6))\n",
    "plt.subplot(1, 2, 1)\n",
    "plt.title(\"Valores Reales\")\n",
    "plt.imshow(real_data[time_step], cmap=\"coolwarm\")\n",
    "plt.colorbar(label=\"Valor\")\n",
    "\n",
    "plt.subplot(1, 2, 2)\n",
    "plt.title(\"Predicciones del Modelo\")\n",
    "plt.imshow(predicted_data[time_step], cmap=\"coolwarm\")\n",
    "plt.colorbar(label=\"Valor\")\n",
    "\n",
    "plt.tight_layout()\n",
    "plt.show()"
   ]
  }
 ],
 "metadata": {
  "kernelspec": {
   "display_name": "pytorch_env",
   "language": "python",
   "name": "python3"
  },
  "language_info": {
   "codemirror_mode": {
    "name": "ipython",
    "version": 3
   },
   "file_extension": ".py",
   "mimetype": "text/x-python",
   "name": "python",
   "nbconvert_exporter": "python",
   "pygments_lexer": "ipython3",
   "version": "3.10.16"
  }
 },
 "nbformat": 4,
 "nbformat_minor": 2
}
