{
 "cells": [
  {
   "cell_type": "markdown",
   "metadata": {},
   "source": [
    "# Laboratorio 1 Fundamentos de Aprendizaje Profundo\n",
    "\n",
    "Nombre: Antonina Arriagada"
   ]
  },
  {
   "cell_type": "markdown",
   "metadata": {},
   "source": [
    "### 1. Definiciones e importación librerias"
   ]
  },
  {
   "cell_type": "code",
   "execution_count": 1,
   "metadata": {},
   "outputs": [],
   "source": [
    "import torch.nn as nn\n",
    "import torch\n",
    "import time\n",
    "import sys\n",
    "import pandas as pd"
   ]
  },
  {
   "cell_type": "markdown",
   "metadata": {},
   "source": [
    "#### 1.1 Definición de la red"
   ]
  },
  {
   "cell_type": "code",
   "execution_count": 2,
   "metadata": {},
   "outputs": [],
   "source": [
    "class SimpleFFNN(nn.Module):\n",
    "    def __init__(self, input_size, hidden_size1, hidden_size2, output_size=1):\n",
    "        super(SimpleFFNN, self).__init__()\n",
    "        self.fc1 = nn.Linear(input_size, hidden_size1)\n",
    "        self.fc2 = nn.Linear(hidden_size1, hidden_size2)\n",
    "        self.fc3 = nn.Linear(hidden_size2, output_size)\n",
    "\n",
    "    def forward(self, x):\n",
    "        h1 = torch.relu(self.fc1(x))\n",
    "        h2 = torch.relu(self.fc2(h1))\n",
    "        return torch.sigmoid(self.fc3(h2))\n",
    "    \n",
    "    def num_parameters(self):\n",
    "        total = 0\n",
    "        for p in self.parameters():\n",
    "            total += p.numel()\n",
    "        return total"
   ]
  },
  {
   "cell_type": "markdown",
   "metadata": {},
   "source": [
    "#### 1.2 Definición de dataset y preprocesamiento de datos"
   ]
  },
  {
   "cell_type": "markdown",
   "metadata": {},
   "source": [
    "RandomDataset"
   ]
  },
  {
   "cell_type": "code",
   "execution_count": 16,
   "metadata": {},
   "outputs": [],
   "source": [
    "from torch.utils.data import Dataset, DataLoader\n",
    "\n",
    "class RandomDataSet(Dataset):\n",
    "  def __init__(self, N, f):\n",
    "    R_N_f = torch.rand(N,f)\n",
    "    self.X = torch.bernoulli(R_N_f)\n",
    "    R_N_1 = torch.rand(N,1)\n",
    "    self.Y = torch.bernoulli(R_N_1)\n",
    "    self.num_features = f\n",
    "\n",
    "  def __len__(self):\n",
    "    return self.X.size()[0]\n",
    "\n",
    "  def __getitem__(self, i):\n",
    "    X_normalized = X * 2 - 1\n",
    "    Y_normalized = Y * 2 - 1 \n",
    "    return self.X[i], self.Y[i]"
   ]
  },
  {
   "cell_type": "markdown",
   "metadata": {},
   "source": [
    "Dataset de clasificación binaria"
   ]
  },
  {
   "cell_type": "code",
   "execution_count": 4,
   "metadata": {},
   "outputs": [
    {
     "data": {
      "text/html": [
       "<div>\n",
       "<style scoped>\n",
       "    .dataframe tbody tr th:only-of-type {\n",
       "        vertical-align: middle;\n",
       "    }\n",
       "\n",
       "    .dataframe tbody tr th {\n",
       "        vertical-align: top;\n",
       "    }\n",
       "\n",
       "    .dataframe thead th {\n",
       "        text-align: right;\n",
       "    }\n",
       "</style>\n",
       "<table border=\"1\" class=\"dataframe\">\n",
       "  <thead>\n",
       "    <tr style=\"text-align: right;\">\n",
       "      <th></th>\n",
       "      <th>Unnamed: 0</th>\n",
       "      <th>MinTemp</th>\n",
       "      <th>MaxTemp</th>\n",
       "      <th>Rainfall</th>\n",
       "      <th>Evaporation</th>\n",
       "      <th>Sunshine</th>\n",
       "      <th>WindGustSpeed</th>\n",
       "      <th>WindSpeed9am</th>\n",
       "      <th>WindSpeed3pm</th>\n",
       "      <th>Humidity9am</th>\n",
       "      <th>Humidity3pm</th>\n",
       "      <th>Pressure9am</th>\n",
       "      <th>Pressure3pm</th>\n",
       "      <th>Cloud9am</th>\n",
       "      <th>Cloud3pm</th>\n",
       "      <th>Temp9am</th>\n",
       "      <th>Temp3pm</th>\n",
       "      <th>RISK_MM</th>\n",
       "    </tr>\n",
       "  </thead>\n",
       "  <tbody>\n",
       "    <tr>\n",
       "      <th>count</th>\n",
       "      <td>25000.000000</td>\n",
       "      <td>24669.000000</td>\n",
       "      <td>24824.000000</td>\n",
       "      <td>24721.000000</td>\n",
       "      <td>9432.000000</td>\n",
       "      <td>6664.000000</td>\n",
       "      <td>21545.000000</td>\n",
       "      <td>24428.000000</td>\n",
       "      <td>23770.000000</td>\n",
       "      <td>24609.000000</td>\n",
       "      <td>23936.000000</td>\n",
       "      <td>20172.000000</td>\n",
       "      <td>20173.000000</td>\n",
       "      <td>14136.000000</td>\n",
       "      <td>13815.000000</td>\n",
       "      <td>24755.000000</td>\n",
       "      <td>24082.000000</td>\n",
       "      <td>25000.000000</td>\n",
       "    </tr>\n",
       "    <tr>\n",
       "      <th>mean</th>\n",
       "      <td>12499.500000</td>\n",
       "      <td>13.294568</td>\n",
       "      <td>23.990558</td>\n",
       "      <td>2.674467</td>\n",
       "      <td>5.825138</td>\n",
       "      <td>7.811945</td>\n",
       "      <td>37.772755</td>\n",
       "      <td>12.686917</td>\n",
       "      <td>16.837106</td>\n",
       "      <td>69.822951</td>\n",
       "      <td>52.762826</td>\n",
       "      <td>1018.173290</td>\n",
       "      <td>1015.627438</td>\n",
       "      <td>4.251556</td>\n",
       "      <td>4.409265</td>\n",
       "      <td>17.953084</td>\n",
       "      <td>22.507171</td>\n",
       "      <td>2.677376</td>\n",
       "    </tr>\n",
       "    <tr>\n",
       "      <th>std</th>\n",
       "      <td>7217.022701</td>\n",
       "      <td>5.848304</td>\n",
       "      <td>6.114348</td>\n",
       "      <td>9.720306</td>\n",
       "      <td>4.871567</td>\n",
       "      <td>3.718698</td>\n",
       "      <td>13.212331</td>\n",
       "      <td>9.136115</td>\n",
       "      <td>9.095719</td>\n",
       "      <td>17.755908</td>\n",
       "      <td>21.210121</td>\n",
       "      <td>6.481112</td>\n",
       "      <td>6.394829</td>\n",
       "      <td>2.968785</td>\n",
       "      <td>2.719235</td>\n",
       "      <td>5.394685</td>\n",
       "      <td>5.954540</td>\n",
       "      <td>9.705604</td>\n",
       "    </tr>\n",
       "    <tr>\n",
       "      <th>min</th>\n",
       "      <td>0.000000</td>\n",
       "      <td>-3.300000</td>\n",
       "      <td>6.800000</td>\n",
       "      <td>0.000000</td>\n",
       "      <td>0.000000</td>\n",
       "      <td>0.000000</td>\n",
       "      <td>7.000000</td>\n",
       "      <td>0.000000</td>\n",
       "      <td>0.000000</td>\n",
       "      <td>3.000000</td>\n",
       "      <td>1.000000</td>\n",
       "      <td>980.500000</td>\n",
       "      <td>979.000000</td>\n",
       "      <td>0.000000</td>\n",
       "      <td>0.000000</td>\n",
       "      <td>0.300000</td>\n",
       "      <td>6.400000</td>\n",
       "      <td>0.000000</td>\n",
       "    </tr>\n",
       "    <tr>\n",
       "      <th>25%</th>\n",
       "      <td>6249.750000</td>\n",
       "      <td>8.900000</td>\n",
       "      <td>19.500000</td>\n",
       "      <td>0.000000</td>\n",
       "      <td>3.000000</td>\n",
       "      <td>5.500000</td>\n",
       "      <td>28.000000</td>\n",
       "      <td>6.000000</td>\n",
       "      <td>9.000000</td>\n",
       "      <td>58.000000</td>\n",
       "      <td>37.000000</td>\n",
       "      <td>1013.800000</td>\n",
       "      <td>1011.300000</td>\n",
       "      <td>1.000000</td>\n",
       "      <td>2.000000</td>\n",
       "      <td>14.200000</td>\n",
       "      <td>18.100000</td>\n",
       "      <td>0.000000</td>\n",
       "    </tr>\n",
       "    <tr>\n",
       "      <th>50%</th>\n",
       "      <td>12499.500000</td>\n",
       "      <td>14.000000</td>\n",
       "      <td>23.400000</td>\n",
       "      <td>0.000000</td>\n",
       "      <td>4.800000</td>\n",
       "      <td>8.900000</td>\n",
       "      <td>35.000000</td>\n",
       "      <td>11.000000</td>\n",
       "      <td>17.000000</td>\n",
       "      <td>71.000000</td>\n",
       "      <td>54.000000</td>\n",
       "      <td>1018.200000</td>\n",
       "      <td>1015.700000</td>\n",
       "      <td>5.000000</td>\n",
       "      <td>5.000000</td>\n",
       "      <td>18.400000</td>\n",
       "      <td>21.900000</td>\n",
       "      <td>0.000000</td>\n",
       "    </tr>\n",
       "    <tr>\n",
       "      <th>75%</th>\n",
       "      <td>18749.250000</td>\n",
       "      <td>17.900000</td>\n",
       "      <td>27.700000</td>\n",
       "      <td>0.600000</td>\n",
       "      <td>7.200000</td>\n",
       "      <td>10.600000</td>\n",
       "      <td>46.000000</td>\n",
       "      <td>19.000000</td>\n",
       "      <td>22.000000</td>\n",
       "      <td>83.000000</td>\n",
       "      <td>68.000000</td>\n",
       "      <td>1022.600000</td>\n",
       "      <td>1020.000000</td>\n",
       "      <td>7.000000</td>\n",
       "      <td>7.000000</td>\n",
       "      <td>21.900000</td>\n",
       "      <td>26.100000</td>\n",
       "      <td>0.800000</td>\n",
       "    </tr>\n",
       "    <tr>\n",
       "      <th>max</th>\n",
       "      <td>24999.000000</td>\n",
       "      <td>29.700000</td>\n",
       "      <td>47.300000</td>\n",
       "      <td>371.000000</td>\n",
       "      <td>86.200000</td>\n",
       "      <td>14.000000</td>\n",
       "      <td>135.000000</td>\n",
       "      <td>130.000000</td>\n",
       "      <td>83.000000</td>\n",
       "      <td>100.000000</td>\n",
       "      <td>100.000000</td>\n",
       "      <td>1039.900000</td>\n",
       "      <td>1036.800000</td>\n",
       "      <td>8.000000</td>\n",
       "      <td>8.000000</td>\n",
       "      <td>37.700000</td>\n",
       "      <td>46.700000</td>\n",
       "      <td>371.000000</td>\n",
       "    </tr>\n",
       "  </tbody>\n",
       "</table>\n",
       "</div>"
      ],
      "text/plain": [
       "         Unnamed: 0       MinTemp       MaxTemp      Rainfall  Evaporation  \\\n",
       "count  25000.000000  24669.000000  24824.000000  24721.000000  9432.000000   \n",
       "mean   12499.500000     13.294568     23.990558      2.674467     5.825138   \n",
       "std     7217.022701      5.848304      6.114348      9.720306     4.871567   \n",
       "min        0.000000     -3.300000      6.800000      0.000000     0.000000   \n",
       "25%     6249.750000      8.900000     19.500000      0.000000     3.000000   \n",
       "50%    12499.500000     14.000000     23.400000      0.000000     4.800000   \n",
       "75%    18749.250000     17.900000     27.700000      0.600000     7.200000   \n",
       "max    24999.000000     29.700000     47.300000    371.000000    86.200000   \n",
       "\n",
       "          Sunshine  WindGustSpeed  WindSpeed9am  WindSpeed3pm   Humidity9am  \\\n",
       "count  6664.000000   21545.000000  24428.000000  23770.000000  24609.000000   \n",
       "mean      7.811945      37.772755     12.686917     16.837106     69.822951   \n",
       "std       3.718698      13.212331      9.136115      9.095719     17.755908   \n",
       "min       0.000000       7.000000      0.000000      0.000000      3.000000   \n",
       "25%       5.500000      28.000000      6.000000      9.000000     58.000000   \n",
       "50%       8.900000      35.000000     11.000000     17.000000     71.000000   \n",
       "75%      10.600000      46.000000     19.000000     22.000000     83.000000   \n",
       "max      14.000000     135.000000    130.000000     83.000000    100.000000   \n",
       "\n",
       "        Humidity3pm   Pressure9am   Pressure3pm      Cloud9am      Cloud3pm  \\\n",
       "count  23936.000000  20172.000000  20173.000000  14136.000000  13815.000000   \n",
       "mean      52.762826   1018.173290   1015.627438      4.251556      4.409265   \n",
       "std       21.210121      6.481112      6.394829      2.968785      2.719235   \n",
       "min        1.000000    980.500000    979.000000      0.000000      0.000000   \n",
       "25%       37.000000   1013.800000   1011.300000      1.000000      2.000000   \n",
       "50%       54.000000   1018.200000   1015.700000      5.000000      5.000000   \n",
       "75%       68.000000   1022.600000   1020.000000      7.000000      7.000000   \n",
       "max      100.000000   1039.900000   1036.800000      8.000000      8.000000   \n",
       "\n",
       "            Temp9am       Temp3pm       RISK_MM  \n",
       "count  24755.000000  24082.000000  25000.000000  \n",
       "mean      17.953084     22.507171      2.677376  \n",
       "std        5.394685      5.954540      9.705604  \n",
       "min        0.300000      6.400000      0.000000  \n",
       "25%       14.200000     18.100000      0.000000  \n",
       "50%       18.400000     21.900000      0.000000  \n",
       "75%       21.900000     26.100000      0.800000  \n",
       "max       37.700000     46.700000    371.000000  "
      ]
     },
     "execution_count": 4,
     "metadata": {},
     "output_type": "execute_result"
    }
   ],
   "source": [
    "weather_data = pd.read_csv(\"dataset/weather.csv\")\n",
    "weather_data.describe()\n"
   ]
  },
  {
   "cell_type": "code",
   "execution_count": 5,
   "metadata": {},
   "outputs": [
    {
     "name": "stdout",
     "output_type": "stream",
     "text": [
      "Index(['Unnamed: 0', 'Date', 'Location', 'MinTemp', 'MaxTemp', 'Rainfall',\n",
      "       'Evaporation', 'Sunshine', 'WindGustDir', 'WindGustSpeed', 'WindDir9am',\n",
      "       'WindDir3pm', 'WindSpeed9am', 'WindSpeed3pm', 'Humidity9am',\n",
      "       'Humidity3pm', 'Pressure9am', 'Pressure3pm', 'Cloud9am', 'Cloud3pm',\n",
      "       'Temp9am', 'Temp3pm', 'RainToday', 'RISK_MM', 'RainTomorrow'],\n",
      "      dtype='object')\n"
     ]
    }
   ],
   "source": [
    "print(weather_data.columns)\n"
   ]
  },
  {
   "cell_type": "code",
   "execution_count": null,
   "metadata": {},
   "outputs": [],
   "source": [
    "from sklearn.preprocessing import StandardScaler, MinMaxScaler\n",
    "from sklearn.preprocessing import LabelEncoder\n",
    "\n",
    "weather_data.drop(columns=['Unnamed: 0', 'Date'], inplace=True)\n",
    "\n",
    "numeric_columns = weather_data.select_dtypes(include=['float64', 'int64']).columns\n",
    "categorical_columns = weather_data.select_dtypes(include=['object']).columns\n",
    "\n",
    "# Se llenan espacios vacíos\n",
    "weather_data[numeric_columns] = weather_data[numeric_columns].fillna(weather_data[numeric_columns].median())\n",
    "\n",
    "# se conviertes las variables categóricas en columnas binarias\n",
    "weather_data = weather_data.apply(lambda x: x.fillna(x.mode()[0]) if x.name in categorical_columns else x)\n",
    "weather_data = pd.get_dummies(weather_data, columns=['WindGustDir', 'WindDir9am', 'WindDir3pm', 'Location'])"
   ]
  },
  {
   "cell_type": "markdown",
   "metadata": {},
   "source": [
    "Los datos numéricos se están escalando y normalizando utilizando el método StandardScaler de sklearn, que ajusta cada característica numérica a fin de  tener una media de 0 y una desviación estándar de 1."
   ]
  },
  {
   "cell_type": "code",
   "execution_count": 7,
   "metadata": {},
   "outputs": [],
   "source": [
    "scaler = StandardScaler() \n",
    "weather_data[numeric_columns] = scaler.fit_transform(weather_data[numeric_columns])"
   ]
  },
  {
   "cell_type": "markdown",
   "metadata": {},
   "source": [
    "MNIST"
   ]
  },
  {
   "cell_type": "code",
   "execution_count": null,
   "metadata": {},
   "outputs": [
    {
     "name": "stdout",
     "output_type": "stream",
     "text": [
      "Downloading http://yann.lecun.com/exdb/mnist/train-images-idx3-ubyte.gz\n",
      "Failed to download (trying next):\n",
      "HTTP Error 403: Forbidden\n",
      "\n",
      "Downloading https://ossci-datasets.s3.amazonaws.com/mnist/train-images-idx3-ubyte.gz\n",
      "Downloading https://ossci-datasets.s3.amazonaws.com/mnist/train-images-idx3-ubyte.gz to ./dataset\\MNIST\\raw\\train-images-idx3-ubyte.gz\n"
     ]
    },
    {
     "name": "stderr",
     "output_type": "stream",
     "text": [
      "100%|██████████| 9912422/9912422 [00:01<00:00, 5631380.57it/s] \n"
     ]
    },
    {
     "name": "stdout",
     "output_type": "stream",
     "text": [
      "Extracting ./dataset\\MNIST\\raw\\train-images-idx3-ubyte.gz to ./dataset\\MNIST\\raw\n",
      "\n",
      "Downloading http://yann.lecun.com/exdb/mnist/train-labels-idx1-ubyte.gz\n",
      "Failed to download (trying next):\n",
      "HTTP Error 403: Forbidden\n",
      "\n",
      "Downloading https://ossci-datasets.s3.amazonaws.com/mnist/train-labels-idx1-ubyte.gz\n",
      "Downloading https://ossci-datasets.s3.amazonaws.com/mnist/train-labels-idx1-ubyte.gz to ./dataset\\MNIST\\raw\\train-labels-idx1-ubyte.gz\n"
     ]
    },
    {
     "name": "stderr",
     "output_type": "stream",
     "text": [
      "100%|██████████| 28881/28881 [00:00<00:00, 212120.94it/s]\n"
     ]
    },
    {
     "name": "stdout",
     "output_type": "stream",
     "text": [
      "Extracting ./dataset\\MNIST\\raw\\train-labels-idx1-ubyte.gz to ./dataset\\MNIST\\raw\n",
      "\n",
      "Downloading http://yann.lecun.com/exdb/mnist/t10k-images-idx3-ubyte.gz\n",
      "Failed to download (trying next):\n",
      "HTTP Error 403: Forbidden\n",
      "\n",
      "Downloading https://ossci-datasets.s3.amazonaws.com/mnist/t10k-images-idx3-ubyte.gz\n",
      "Downloading https://ossci-datasets.s3.amazonaws.com/mnist/t10k-images-idx3-ubyte.gz to ./dataset\\MNIST\\raw\\t10k-images-idx3-ubyte.gz\n"
     ]
    },
    {
     "name": "stderr",
     "output_type": "stream",
     "text": [
      "100%|██████████| 1648877/1648877 [00:00<00:00, 2220783.73it/s]\n"
     ]
    },
    {
     "name": "stdout",
     "output_type": "stream",
     "text": [
      "Extracting ./dataset\\MNIST\\raw\\t10k-images-idx3-ubyte.gz to ./dataset\\MNIST\\raw\n",
      "\n",
      "Downloading http://yann.lecun.com/exdb/mnist/t10k-labels-idx1-ubyte.gz\n",
      "Failed to download (trying next):\n",
      "HTTP Error 403: Forbidden\n",
      "\n",
      "Downloading https://ossci-datasets.s3.amazonaws.com/mnist/t10k-labels-idx1-ubyte.gz\n",
      "Downloading https://ossci-datasets.s3.amazonaws.com/mnist/t10k-labels-idx1-ubyte.gz to ./dataset\\MNIST\\raw\\t10k-labels-idx1-ubyte.gz\n"
     ]
    },
    {
     "name": "stderr",
     "output_type": "stream",
     "text": [
      "100%|██████████| 4542/4542 [00:00<00:00, 4323769.58it/s]"
     ]
    },
    {
     "name": "stdout",
     "output_type": "stream",
     "text": [
      "Extracting ./dataset\\MNIST\\raw\\t10k-labels-idx1-ubyte.gz to ./dataset\\MNIST\\raw\n",
      "\n"
     ]
    },
    {
     "name": "stderr",
     "output_type": "stream",
     "text": [
      "\n"
     ]
    }
   ],
   "source": [
    "from torchvision import datasets, transforms\n",
    "\n",
    "#  normalización de las imágenes en escala de grises, centrándolas en un valor medio de 0 y escalándolas para que los valores estén entre -1 y 1.\n",
    "transform = transforms.Compose([transforms.ToTensor(), transforms.Normalize((0.5,), (0.5,))])\n",
    "train_dataset = datasets.MNIST(root='./dataset', train=True, download=True, transform=transform)\n",
    "test_dataset = datasets.MNIST(root='./dataset', train=False, download=True, transform=transform)\n"
   ]
  },
  {
   "cell_type": "code",
   "execution_count": 12,
   "metadata": {},
   "outputs": [],
   "source": [
    "train_loader = torch.utils.data.DataLoader(train_dataset, batch_size=64, shuffle=True)\n",
    "test_loader = torch.utils.data.DataLoader(test_dataset, batch_size=64, shuffle=False)\n"
   ]
  },
  {
   "cell_type": "code",
   "execution_count": 13,
   "metadata": {},
   "outputs": [
    {
     "name": "stdout",
     "output_type": "stream",
     "text": [
      "Batch images shape: torch.Size([64, 1, 28, 28]), Batch labels shape: torch.Size([64])\n"
     ]
    }
   ],
   "source": [
    "images, labels = next(iter(train_loader))\n",
    "print(f'Batch images shape: {images.shape}, Batch labels shape: {labels.shape}')"
   ]
  },
  {
   "cell_type": "code",
   "execution_count": 15,
   "metadata": {},
   "outputs": [
    {
     "data": {
      "image/png": "[encoded data removed]",
      "text/plain": [
       "<Figure size 1200x200 with 6 Axes>"
      ]
     },
     "metadata": {},
     "output_type": "display_data"
    }
   ],
   "source": [
    "import matplotlib.pyplot as plt\n",
    "\n",
    "images = images * 0.5 + 0.5 \n",
    "\n",
    "fig, axes = plt.subplots(1, 6, figsize=(12, 2))\n",
    "for i in range(6):\n",
    "    axes[i].imshow(images[i].squeeze(), cmap='gray') \n",
    "    axes[i].set_title(f'Label: {labels[i].item()}')\n",
    "    axes[i].axis('off')\n",
    "plt.show()"
   ]
  },
  {
   "cell_type": "markdown",
   "metadata": {},
   "source": [
    "### 2. Inicialización de pesos"
   ]
  },
  {
   "cell_type": "markdown",
   "metadata": {},
   "source": [
    "Inicialización de Xavier (o Glorot): Ideal para redes con funciones de \n",
    "activación simétricas como tanh o sigmoid, y mejora la propagación de \n",
    "los gradientes en redes profundas.\n",
    "\n",
    "Inicialización de He: Recomendada para redes con funciones de \n",
    "activación como ReLU, ya que ayuda a manejar el problema del \n",
    "desvanecimiento de gradientes."
   ]
  },
  {
   "cell_type": "markdown",
   "metadata": {},
   "source": [
    "El estudiante debe documentar las observaciones sobre cómo la inicialización \n",
    "de los pesos y la normalización de los datos afectan la estabilidad del \n",
    "entrenamiento, la rapidez de la convergencia y el rendimiento final del modelo."
   ]
  },
  {
   "cell_type": "markdown",
   "metadata": {},
   "source": [
    "Sugerencia de análisis: Comparar los resultados obtenidos con cada \n",
    "optimizador e inicialización utilizando métricas como la pérdida de \n",
    "entrenamiento y precisión, además de visualizar las curvas de aprendizaje \n",
    "para cada configuración."
   ]
  },
  {
   "cell_type": "markdown",
   "metadata": {},
   "source": [
    "#### 2.1 Inicialización de Xavier"
   ]
  },
  {
   "cell_type": "markdown",
   "metadata": {},
   "source": [
    "La inicialización de Xavier (también conocida como Glorot) se usa típicamente con activaciones sigmoides o tangentes hiperbólicas (tanh). La función de Xavier ajusta los pesos para que sigan una distribución uniforme o normal con una varianza específica que ayuda a estabilizar la activación en cada capa."
   ]
  },
  {
   "cell_type": "code",
   "execution_count": null,
   "metadata": {},
   "outputs": [],
   "source": [
    "def init_xavier(model):\n",
    "    for layer in model.children():\n",
    "        if isinstance(layer, nn.Linear):\n",
    "            nn.init.xavier_uniform_(layer.weight) \n",
    "            if layer.bias is not None:\n",
    "                nn.init.zeros_(layer.bias) "
   ]
  },
  {
   "cell_type": "markdown",
   "metadata": {},
   "source": [
    "#### 2.2 Inicialización de He"
   ]
  },
  {
   "cell_type": "markdown",
   "metadata": {},
   "source": [
    "La inicialización de He es ideal cuando se utilizan activaciones ReLU o variantes de ReLU, ya que adapta la varianza de los pesos a la cantidad de neuronas en la capa anterior, ayudando a que las activaciones no se saturen ni se apaguen."
   ]
  },
  {
   "cell_type": "code",
   "execution_count": 17,
   "metadata": {},
   "outputs": [],
   "source": [
    "def init_he(model):\n",
    "    for layer in model.children():\n",
    "        if isinstance(layer, nn.Linear):\n",
    "            nn.init.kaiming_uniform_(layer.weight, nonlinearity='relu') \n",
    "            if layer.bias is not None:\n",
    "                nn.init.zeros_(layer.bias)"
   ]
  },
  {
   "cell_type": "markdown",
   "metadata": {},
   "source": [
    "### 3. Optimización"
   ]
  },
  {
   "cell_type": "markdown",
   "metadata": {},
   "source": [
    "Algoritmos de optimización"
   ]
  },
  {
   "cell_type": "markdown",
   "metadata": {},
   "source": [
    "##### 3.1 SGD (Descenso de Gradiente Estocástico)"
   ]
  },
  {
   "cell_type": "code",
   "execution_count": null,
   "metadata": {},
   "outputs": [],
   "source": [
    "optimizer_sgd = torch.optim.SGD(model.parameters(), lr=0.01)"
   ]
  },
  {
   "cell_type": "markdown",
   "metadata": {},
   "source": [
    "##### 3.2 SGD con Momentum"
   ]
  },
  {
   "cell_type": "code",
   "execution_count": null,
   "metadata": {},
   "outputs": [],
   "source": [
    "optimizer_sgd_momentum = torch.optim.SGD(model.parameters(), lr=0.01, momentum=0.9)"
   ]
  },
  {
   "cell_type": "markdown",
   "metadata": {},
   "source": [
    "##### 3.3 SGD con Nesterov Momentum"
   ]
  },
  {
   "cell_type": "code",
   "execution_count": null,
   "metadata": {},
   "outputs": [],
   "source": [
    "optimizer_sgd_mnesterov = torch.optim.SGD(model.parameters(), lr=0.01, momentum=0.9, nesterov=True)"
   ]
  },
  {
   "cell_type": "markdown",
   "metadata": {},
   "source": [
    "##### 3.4 RMSProp"
   ]
  },
  {
   "cell_type": "code",
   "execution_count": null,
   "metadata": {},
   "outputs": [],
   "source": [
    "optimizer_rsm = torch.optim.RMSprop(model.parameters(), lr=0.01, alpha=0.99)"
   ]
  },
  {
   "cell_type": "markdown",
   "metadata": {},
   "source": [
    "##### 3.5 Adam"
   ]
  },
  {
   "cell_type": "code",
   "execution_count": null,
   "metadata": {},
   "outputs": [],
   "source": [
    "optimizer_adam = torch.optim.Adam(model.parameters(), lr=0.01, betas=(0.9, 0.999))"
   ]
  },
  {
   "cell_type": "markdown",
   "metadata": {},
   "source": [
    "### 4. Regularización"
   ]
  },
  {
   "cell_type": "markdown",
   "metadata": {},
   "source": [
    "##### 4.1 Dropout"
   ]
  },
  {
   "cell_type": "markdown",
   "metadata": {},
   "source": [
    "Dropout ayuda a reducir el sobreajuste apagando aleatoriamente ciertas unidades durante el entrenamiento. Puedes definir una función que añada capas de dropout a un modelo"
   ]
  },
  {
   "cell_type": "code",
   "execution_count": null,
   "metadata": {},
   "outputs": [],
   "source": [
    "def apply_dropout(model, p=0.5):\n",
    "    for layer in model.children():\n",
    "        if isinstance(layer, nn.Linear):\n",
    "            model.add_module(\"dropout_\" + str(id(layer)), nn.Dropout(p=p))"
   ]
  },
  {
   "cell_type": "markdown",
   "metadata": {},
   "source": [
    "##### 4.2 Batch Normalization"
   ]
  },
  {
   "cell_type": "markdown",
   "metadata": {},
   "source": [
    "Batch Normalization se puede aplicar a las capas de manera similar. Esto ayuda a estabilizar el entrenamiento al mantener las activaciones de cada capa en un rango adecuado."
   ]
  },
  {
   "cell_type": "code",
   "execution_count": null,
   "metadata": {},
   "outputs": [],
   "source": [
    "def apply_batch_norm(model):\n",
    "    new_layers = []\n",
    "    for layer in model.children():\n",
    "        new_layers.append(layer)\n",
    "        if isinstance(layer, nn.Linear):\n",
    "            new_layers.append(nn.BatchNorm1d(layer.out_features))  # BatchNorm1d para datos en batch\n",
    "    return nn.Sequential(*new_layers)"
   ]
  },
  {
   "cell_type": "markdown",
   "metadata": {},
   "source": [
    "##### 4.3 Regularización L2"
   ]
  },
  {
   "cell_type": "markdown",
   "metadata": {},
   "source": [
    "La regularización L2 (también llamada decaimiento de peso) se puede agregar directamente en el optimizador, y su valor será aplicado a cada parámetro del modelo."
   ]
  },
  {
   "cell_type": "code",
   "execution_count": null,
   "metadata": {},
   "outputs": [],
   "source": [
    "def l2_regularization(model, lambda_l2):\n",
    "    l2_norm = sum(param.pow(2.0).sum() for param in model.parameters())\n",
    "    return lambda_l2 * l2_norm"
   ]
  }
 ],
 "metadata": {
  "kernelspec": {
   "display_name": "climatelearn",
   "language": "python",
   "name": "python3"
  },
  "language_info": {
   "codemirror_mode": {
    "name": "ipython",
    "version": 3
   },
   "file_extension": ".py",
   "mimetype": "text/x-python",
   "name": "python",
   "nbconvert_exporter": "python",
   "pygments_lexer": "ipython3",
   "version": "3.9.20"
  }
 },
 "nbformat": 4,
 "nbformat_minor": 2
}
