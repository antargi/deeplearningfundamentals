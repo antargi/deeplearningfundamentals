{
 "cells": [
  {
   "cell_type": "code",
   "execution_count": 4,
   "metadata": {},
   "outputs": [],
   "source": [
    "import torch.nn as nn\n",
    "import torch\n",
    "import time\n",
    "import sys"
   ]
  },
  {
   "cell_type": "code",
   "execution_count": 18,
   "metadata": {},
   "outputs": [],
   "source": [
    "class SimpleFFNN(nn.Module):\n",
    "    def __init__(self, input_size, hidden_size1, hidden_size2, output_size=1):\n",
    "        super(SimpleFFNN, self).__init__()\n",
    "        self.fc1 = nn.Linear(input_size, hidden_size1)\n",
    "        self.fc2 = nn.Linear(hidden_size1, hidden_size2)\n",
    "        self.fc3 = nn.Linear(hidden_size2, output_size)\n",
    "\n",
    "    def forward(self, x):\n",
    "        h1 = torch.relu(self.fc1(x))\n",
    "        h2 = torch.relu(self.fc2(h1))\n",
    "        return torch.sigmoid(self.fc3(h2))\n",
    "    \n",
    "    def num_parameters(self):\n",
    "        total = 0\n",
    "        for p in self.parameters():\n",
    "            total += p.numel()\n",
    "        return total"
   ]
  },
  {
   "cell_type": "code",
   "execution_count": 5,
   "metadata": {},
   "outputs": [],
   "source": [
    "from torch.utils.data import Dataset, DataLoader\n",
    "\n",
    "class RandomDataSet(Dataset):\n",
    "  def __init__(self, N, f):\n",
    "    R_N_f = torch.rand(N,f)\n",
    "    self.X = torch.bernoulli(R_N_f)\n",
    "    R_N_1 = torch.rand(N,1)\n",
    "    self.Y = torch.bernoulli(R_N_1)\n",
    "    self.num_features = f\n",
    "\n",
    "  # Debemos definir __len__ para retornar el tamaño del dataset\n",
    "  def __len__(self):\n",
    "    return self.X.size()[0]\n",
    "\n",
    "  # Debemos definir __getitem__ para retornar el i-ésimo\n",
    "  # ejemplo en nuestro dataset.\n",
    "  def __getitem__(self, i):\n",
    "    return self.X[i], self.Y[i]"
   ]
  },
  {
   "cell_type": "code",
   "execution_count": 20,
   "metadata": {},
   "outputs": [],
   "source": [
    "def loop_FFNN(dataset, batch_size, d1, d2, lr,\n",
    "                 epochs, run_in_GPU=True, reports_every=1,\n",
    "                 cheq_grad=False, init_v=1):\n",
    "    \n",
    "    device = 'cuda' if run_in_GPU else 'cpu'\n",
    "\n",
    "    # d0 es la cantidad de features\n",
    "    d0 = dataset.num_features\n",
    "\n",
    "    # Crea la red\n",
    "    red = SimpleFFNN(d0, d1, d2)\n",
    "\n",
    "    # Pasa la red al dispositivo elegido\n",
    "    red.to(device)\n",
    "\n",
    "    # Muestra la cantidad de parámetros\n",
    "    print('Cantidad de parámetros:', red.num_parameters())\n",
    "\n",
    "    # Crea un dataloader desde el dataset\n",
    "    data = DataLoader(dataset, batch_size, shuffle=True)\n",
    "\n",
    "    # Crea un optimizador para el descenso de gradiente\n",
    "    optimizador = torch.optim.SGD(red.parameters(), lr)\n",
    "\n",
    "    # Define una pérdida\n",
    "    perdida = torch.nn.BCELoss()\n",
    "\n",
    "    # Comienza el entrenamiento\n",
    "    tiempo_epochs = 0\n",
    "    for e in range(1, epochs+1):\n",
    "        inicio_epoch = time.time()\n",
    "\n",
    "        for (x, y) in data:\n",
    "            # Asegura de pasarlos a la GPU si fuera necesario\n",
    "            x, y = x.to(device), y.to(device)\n",
    "\n",
    "            # Computa la pasada hacia adelante (forward)\n",
    "            y_pred = red.forward(x)\n",
    "\n",
    "            # Computa la función de pérdida\n",
    "            L = perdida(y_pred,y)\n",
    "\n",
    "            # Computa los gradientes hacia atrás (backpropagation)\n",
    "            L.backward()\n",
    "\n",
    "            # Descenso de gradiente para actualizar los pesos\n",
    "            optimizador.step()\n",
    "\n",
    "            # Limpia los gradientes\n",
    "            optimizador.zero_grad()\n",
    "\n",
    "        tiempo_epochs += time.time() - inicio_epoch\n",
    "\n",
    "        if e % reports_every == 0:\n",
    "\n",
    "            # calcula la certeza de las predicciones sobre todo el conjunto\n",
    "            X = dataset.X.to(device)\n",
    "            Y = dataset.Y.to(device)\n",
    "\n",
    "            # Predice usando la red\n",
    "            Y_PRED = red.forward(X)\n",
    "\n",
    "            # Predice la pérdida de todo el conjunto\n",
    "            L_total = perdida(Y_PRED, Y)\n",
    "\n",
    "            # Elige una clase dependiendo del valor de Y_PRED\n",
    "            Y_PRED_BIN = (Y_PRED >= 0.5).float()\n",
    "\n",
    "            correctos = torch.sum(Y_PRED_BIN == Y).item()\n",
    "\n",
    "            acc = (correctos/N) * 100\n",
    "\n",
    "            sys.stdout.write(\n",
    "            '\\rEpoch:{0:03d}'.format(e) + ' Acc:{0:.2f}%'.format(acc)\n",
    "            + ' Loss:{0:.4f}'.format(L_total)\n",
    "            + ' Tiempo/epoch:{0:.3f}s'.format(tiempo_epochs/e))\n",
    "\n"
   ]
  },
  {
   "cell_type": "code",
   "execution_count": 21,
   "metadata": {},
   "outputs": [
    {
     "name": "stdout",
     "output_type": "stream",
     "text": [
      "Cantidad de parámetros: 211101\n",
      "Epoch:050 Acc:100.00% Loss:0.0001 Tiempo/epoch:0.420s"
     ]
    }
   ],
   "source": [
    "N = 5000 # numero de ejemplos\n",
    "f = 300 # numero de features\n",
    "\n",
    "dataset = RandomDataSet(N,f)\n",
    "\n",
    "epochs = 50\n",
    "loop_FFNN(dataset, batch_size=10, d1=300, d2=400, epochs=epochs,\n",
    "             run_in_GPU=True, lr=0.05)"
   ]
  }
 ],
 "metadata": {
  "kernelspec": {
   "display_name": "climatelearn",
   "language": "python",
   "name": "python3"
  },
  "language_info": {
   "codemirror_mode": {
    "name": "ipython",
    "version": 3
   },
   "file_extension": ".py",
   "mimetype": "text/x-python",
   "name": "python",
   "nbconvert_exporter": "python",
   "pygments_lexer": "ipython3",
   "version": "3.9.20"
  }
 },
 "nbformat": 4,
 "nbformat_minor": 2
}
